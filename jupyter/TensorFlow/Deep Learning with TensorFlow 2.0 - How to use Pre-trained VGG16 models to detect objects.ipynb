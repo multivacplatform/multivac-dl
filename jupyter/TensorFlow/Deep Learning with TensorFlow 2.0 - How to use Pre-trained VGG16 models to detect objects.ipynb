{
 "cells": [
  {
   "cell_type": "code",
   "execution_count": 1,
   "metadata": {},
   "outputs": [],
   "source": [
    "from tensorflow.keras.applications.vgg16 import VGG16, preprocess_input, decode_predictions\n",
    "from tensorflow.keras.preprocessing.image import load_img, img_to_array"
   ]
  },
  {
   "cell_type": "code",
   "execution_count": 2,
   "metadata": {},
   "outputs": [
    {
     "name": "stdout",
     "output_type": "stream",
     "text": [
      "A local file was found, but it seems to be incomplete or outdated because the auto file hash does not match the original value of 64373286793e3c8b2b4e3219cbf3544b so we will re-download the data.\n",
      "Downloading data from https://github.com/fchollet/deep-learning-models/releases/download/v0.1/vgg16_weights_tf_dim_ordering_tf_kernels.h5\n",
      "553467904/553467096 [==============================] - 70s 0us/step\n"
     ]
    }
   ],
   "source": [
    "model = VGG16()"
   ]
  },
  {
   "cell_type": "code",
   "execution_count": 3,
   "metadata": {},
   "outputs": [
    {
     "name": "stdout",
     "output_type": "stream",
     "text": [
      "Model: \"vgg16\"\n",
      "_________________________________________________________________\n",
      "Layer (type)                 Output Shape              Param #   \n",
      "=================================================================\n",
      "input_1 (InputLayer)         [(None, 224, 224, 3)]     0         \n",
      "_________________________________________________________________\n",
      "block1_conv1 (Conv2D)        (None, 224, 224, 64)      1792      \n",
      "_________________________________________________________________\n",
      "block1_conv2 (Conv2D)        (None, 224, 224, 64)      36928     \n",
      "_________________________________________________________________\n",
      "block1_pool (MaxPooling2D)   (None, 112, 112, 64)      0         \n",
      "_________________________________________________________________\n",
      "block2_conv1 (Conv2D)        (None, 112, 112, 128)     73856     \n",
      "_________________________________________________________________\n",
      "block2_conv2 (Conv2D)        (None, 112, 112, 128)     147584    \n",
      "_________________________________________________________________\n",
      "block2_pool (MaxPooling2D)   (None, 56, 56, 128)       0         \n",
      "_________________________________________________________________\n",
      "block3_conv1 (Conv2D)        (None, 56, 56, 256)       295168    \n",
      "_________________________________________________________________\n",
      "block3_conv2 (Conv2D)        (None, 56, 56, 256)       590080    \n",
      "_________________________________________________________________\n",
      "block3_conv3 (Conv2D)        (None, 56, 56, 256)       590080    \n",
      "_________________________________________________________________\n",
      "block3_pool (MaxPooling2D)   (None, 28, 28, 256)       0         \n",
      "_________________________________________________________________\n",
      "block4_conv1 (Conv2D)        (None, 28, 28, 512)       1180160   \n",
      "_________________________________________________________________\n",
      "block4_conv2 (Conv2D)        (None, 28, 28, 512)       2359808   \n",
      "_________________________________________________________________\n",
      "block4_conv3 (Conv2D)        (None, 28, 28, 512)       2359808   \n",
      "_________________________________________________________________\n",
      "block4_pool (MaxPooling2D)   (None, 14, 14, 512)       0         \n",
      "_________________________________________________________________\n",
      "block5_conv1 (Conv2D)        (None, 14, 14, 512)       2359808   \n",
      "_________________________________________________________________\n",
      "block5_conv2 (Conv2D)        (None, 14, 14, 512)       2359808   \n",
      "_________________________________________________________________\n",
      "block5_conv3 (Conv2D)        (None, 14, 14, 512)       2359808   \n",
      "_________________________________________________________________\n",
      "block5_pool (MaxPooling2D)   (None, 7, 7, 512)         0         \n",
      "_________________________________________________________________\n",
      "flatten (Flatten)            (None, 25088)             0         \n",
      "_________________________________________________________________\n",
      "fc1 (Dense)                  (None, 4096)              102764544 \n",
      "_________________________________________________________________\n",
      "fc2 (Dense)                  (None, 4096)              16781312  \n",
      "_________________________________________________________________\n",
      "predictions (Dense)          (None, 1000)              4097000   \n",
      "=================================================================\n",
      "Total params: 138,357,544\n",
      "Trainable params: 138,357,544\n",
      "Non-trainable params: 0\n",
      "_________________________________________________________________\n"
     ]
    }
   ],
   "source": [
    "model.summary()"
   ]
  },
  {
   "cell_type": "code",
   "execution_count": 4,
   "metadata": {},
   "outputs": [],
   "source": [
    "import os"
   ]
  },
  {
   "cell_type": "code",
   "execution_count": 11,
   "metadata": {},
   "outputs": [
    {
     "name": "stdout",
     "output_type": "stream",
     "text": [
      "0EPcoWnN-UY.jpg\n",
      "[[('n11939491', 'daisy', 0.69660604)]]\n",
      "\n",
      "E163LGOdZnw.jpg\n",
      "[[('n03325584', 'feather_boa', 0.34448773)]]\n",
      "\n",
      "DXD3o-HOh98.jpg\n",
      "[[('n03388043', 'fountain', 0.42663777)]]\n",
      "\n",
      "VIoNlC4ZHXM.jpg\n",
      "[[('n01910747', 'jellyfish', 0.34757572)]]\n",
      "\n",
      "5LyYqPEv8w0.jpg\n",
      "[[('n04208210', 'shovel', 0.39751303)]]\n",
      "\n",
      "3hfF78udFec.jpg\n",
      "[[('n09399592', 'promontory', 0.39763993)]]\n",
      "\n",
      "0F-nfVbbZrk.jpg\n",
      "[[('n04285008', 'sports_car', 0.6795367)]]\n",
      "\n",
      "dgemByb5t50.jpg\n",
      "[[('n03662601', 'lifeboat', 0.85679364)]]\n",
      "\n",
      "BNGGO2Vprrk.jpg\n",
      "[[('n03792972', 'mountain_tent', 0.8160067)]]\n",
      "\n",
      "N6k0xwP6HTM.jpg\n",
      "[[('n04254777', 'sock', 0.12089508)]]\n",
      "\n",
      "JPFWudeuc54.jpg\n",
      "[[('n01910747', 'jellyfish', 0.9097785)]]\n",
      "\n",
      "8g0CStP6_Mk.jpg\n",
      "[[('n02096051', 'Airedale', 0.5486217)]]\n",
      "\n",
      "zeZisngXa5Q.jpg\n",
      "[[('n09246464', 'cliff', 0.5188912)]]\n",
      "\n",
      "z1gSZB_8DvQ.jpg\n",
      "[[('n03998194', 'prayer_rug', 0.1505852)]]\n",
      "\n",
      "qLixd7Lm8Ro.jpg\n",
      "[[('n02815834', 'beaker', 0.13672751)]]\n",
      "\n",
      "I4squmbSKf8.jpg\n",
      "[[('n02965783', 'car_mirror', 0.810361)]]\n",
      "\n",
      "1hQib9H9pR0.jpg\n",
      "[[('n09332890', 'lakeside', 0.40595663)]]\n",
      "\n",
      "ID3UElyK3PA.jpg\n",
      "[[('n02417914', 'ibex', 0.34220663)]]\n",
      "\n",
      "Ml-D3DPXgQ4.jpg\n",
      "[[('n03868863', 'oxygen_mask', 0.30488527)]]\n",
      "\n",
      "M65HqlG2inc.jpg\n",
      "[[('n04069434', 'reflex_camera', 0.9008384)]]\n",
      "\n",
      "2DZY6KK5c5w.jpg\n",
      "[[('n02280649', 'cabbage_butterfly', 0.38569263)]]\n",
      "\n",
      "NT3q0DwELOA.jpg\n",
      "[[('n03100240', 'convertible', 0.3368735)]]\n",
      "\n",
      "i6ZZXBZBZek.jpg\n",
      "[[('n09472597', 'volcano', 0.8821518)]]\n",
      "\n",
      "Y7GUOQ83OMg.jpg\n",
      "[[('n09472597', 'volcano', 0.9972613)]]\n",
      "\n",
      "6PiTaOv743E.jpg\n",
      "[[('n04286575', 'spotlight', 0.06919995)]]\n",
      "\n",
      "YcVLxYFBFbA.jpg\n",
      "[[('n04252225', 'snowplow', 0.6010121)]]\n",
      "\n",
      "qr_ovQntnAU.jpg\n",
      "[[('n03127925', 'crate', 0.11486445)]]\n",
      "\n",
      "dqcAlGZb4KM.jpg\n",
      "[[('n03259280', 'Dutch_oven', 0.26692277)]]\n",
      "\n",
      "cTi-gcjoITg.jpg\n",
      "[[('n03457902', 'greenhouse', 0.9826155)]]\n",
      "\n",
      "tOQbWvm3A88.jpg\n",
      "[[('n02825657', 'bell_cote', 0.07863685)]]\n",
      "\n"
     ]
    }
   ],
   "source": [
    "for file in os.listdir('./../../data/sample/'):\n",
    "    print(file)\n",
    "    full_path = './../../data/sample/' + file\n",
    "    \n",
    "    image = load_img(full_path, target_size=(224, 224))\n",
    "    image = img_to_array(image)\n",
    "    image = image.reshape((1, image.shape[0], image.shape[1], image.shape[2]))\n",
    "    image = preprocess_input(image)\n",
    "    y_pred = model.predict(image)\n",
    "    label = decode_predictions(y_pred, top = 1)\n",
    "    print(label)\n",
    "    print()"
   ]
  },
  {
   "cell_type": "code",
   "execution_count": null,
   "metadata": {},
   "outputs": [],
   "source": []
  }
 ],
 "metadata": {
  "kernelspec": {
   "display_name": "Python 3",
   "language": "python",
   "name": "python3"
  },
  "language_info": {
   "codemirror_mode": {
    "name": "ipython",
    "version": 3
   },
   "file_extension": ".py",
   "mimetype": "text/x-python",
   "name": "python",
   "nbconvert_exporter": "python",
   "pygments_lexer": "ipython3",
   "version": "3.6.8"
  }
 },
 "nbformat": 4,
 "nbformat_minor": 2
}
