{
 "cells": [
  {
   "cell_type": "markdown",
   "metadata": {
    "colab_type": "text",
    "id": "FrqbZzyNfcyp"
   },
   "source": [
    "## Malaria Parasite Detection Using CNN"
   ]
  },
  {
   "cell_type": "markdown",
   "metadata": {
    "colab_type": "text",
    "id": "nGm8Ywe6LBZv"
   },
   "source": [
    "Watch Full Video Here: https://youtu.be/Jdagdil0FIw\n"
   ]
  },
  {
   "cell_type": "markdown",
   "metadata": {
    "colab_type": "text",
    "id": "5bFd-gm6zUrN"
   },
   "source": [
    "![alt text](https://ourworldindata.org/uploads/2019/04/Previous-prevalence-of-malaria-world-map.png)"
   ]
  },
  {
   "cell_type": "markdown",
   "metadata": {
    "colab_type": "text",
    "id": "Z6qrKFXYzUyu"
   },
   "source": [
    "Malaria is an infectious disease that causes over 400,000 deaths per year."
   ]
  },
  {
   "cell_type": "markdown",
   "metadata": {
    "colab_type": "text",
    "id": "RIGgPoXHzU2s"
   },
   "source": [
    "Mosquitoes are notorious for carrying malaria"
   ]
  },
  {
   "cell_type": "markdown",
   "metadata": {
    "colab_type": "text",
    "id": "7pnyA0ZizU6q"
   },
   "source": [
    "In 2018, Rajaraman et al. published a paper entitled Pre-trained convolutional neural networks as feature extractors toward improved parasite detection in thin blood smear images."
   ]
  },
  {
   "cell_type": "markdown",
   "metadata": {
    "colab_type": "text",
    "id": "-QeOG98ezU-b"
   },
   "source": [
    "Link: https://lhncbc.nlm.nih.gov/publication/pub9932\n",
    "\n",
    "Paper Link: https://lhncbc.nlm.nih.gov/system/files/pub9752.pdf"
   ]
  },
  {
   "cell_type": "markdown",
   "metadata": {
    "colab_type": "text",
    "id": "EDIo8mVj0D3O"
   },
   "source": [
    "![alt text](https://www.pyimagesearch.com/wp-content/uploads/2018/12/dl_medical_imaging_malaria_dataset.jpg)"
   ]
  },
  {
   "cell_type": "code",
   "execution_count": 1,
   "metadata": {
    "colab": {
     "base_uri": "https://localhost:8080/",
     "height": 34
    },
    "colab_type": "code",
    "id": "IP69j-fjftKz",
    "outputId": "f5fb4558-6bea-481e-90cc-13331bd5e044"
   },
   "outputs": [
    {
     "name": "stdout",
     "output_type": "stream",
     "text": [
      "2.0.0-rc0\n"
     ]
    }
   ],
   "source": [
    "import tensorflow as tf\n",
    "from tensorflow.keras import Sequential\n",
    "from tensorflow.keras.layers import Flatten, Dense, Conv2D, MaxPool2D, Dropout\n",
    "\n",
    "from tensorflow.keras.preprocessing.image import ImageDataGenerator\n",
    "\n",
    "print(tf.__version__)"
   ]
  },
  {
   "cell_type": "code",
   "execution_count": 2,
   "metadata": {
    "colab": {},
    "colab_type": "code",
    "id": "n6_k7gqOgNYQ"
   },
   "outputs": [],
   "source": [
    "import numpy as np\n",
    "import matplotlib.pyplot as plt"
   ]
  },
  {
   "cell_type": "code",
   "execution_count": 3,
   "metadata": {
    "colab": {
     "base_uri": "https://localhost:8080/",
     "height": 151
    },
    "colab_type": "code",
    "id": "BowRCrCWiPQT",
    "outputId": "564c5683-ac76-45c4-f0bd-89d11bca33dd"
   },
   "outputs": [
    {
     "name": "stdout",
     "output_type": "stream",
     "text": [
      "Cloning into 'Malaria-Classification-Using-CNN'...\n",
      "remote: Enumerating objects: 27577, done.\u001b[K\n",
      "remote: Counting objects: 100% (27577/27577), done.\u001b[K\n",
      "remote: Compressing objects: 100% (27576/27576), done.\u001b[K\n",
      "remote: Total 27577 (delta 3), reused 27565 (delta 0), pack-reused 0\u001b[K\n",
      "Receiving objects: 100% (27577/27577), 331.67 MiB | 29.56 MiB/s, done.\n",
      "Resolving deltas: 100% (3/3), done.\n",
      "Checking connectivity... done.\n"
     ]
    }
   ],
   "source": [
    "!git clone https://github.com/laxmimerit/Malaria-Classification-Using-CNN.git"
   ]
  },
  {
   "cell_type": "code",
   "execution_count": 4,
   "metadata": {
    "colab": {},
    "colab_type": "code",
    "id": "LMKkyU4jiPTl"
   },
   "outputs": [],
   "source": [
    "img_width = 64\n",
    "img_height = 64"
   ]
  },
  {
   "cell_type": "code",
   "execution_count": 5,
   "metadata": {
    "colab": {},
    "colab_type": "code",
    "id": "sHyJJ5quiPWX"
   },
   "outputs": [],
   "source": [
    "datagen = ImageDataGenerator(rescale=1/255.0, validation_split=0.2)"
   ]
  },
  {
   "cell_type": "code",
   "execution_count": 6,
   "metadata": {
    "colab": {
     "base_uri": "https://localhost:8080/",
     "height": 34
    },
    "colab_type": "code",
    "id": "6SdOmHeSzHMh",
    "outputId": "7fd9480f-e2eb-478d-e2ca-c9d58f6c6818"
   },
   "outputs": [
    {
     "name": "stdout",
     "output_type": "stream",
     "text": [
      "Found 22048 images belonging to 2 classes.\n"
     ]
    }
   ],
   "source": [
    "train_data_generator = datagen.flow_from_directory(directory='Malaria-Classification-Using-CNN/malaria-dataset',\n",
    "                                                   target_size = (img_width, img_height),\n",
    "                                                   class_mode = 'binary',\n",
    "                                                   batch_size = 16,\n",
    "                                                   subset = 'training'\n",
    "                                                   )"
   ]
  },
  {
   "cell_type": "code",
   "execution_count": 7,
   "metadata": {
    "colab": {
     "base_uri": "https://localhost:8080/",
     "height": 34
    },
    "colab_type": "code",
    "id": "254F-VJszHPz",
    "outputId": "973671a8-a5aa-4b2f-e956-1081a53303bc"
   },
   "outputs": [
    {
     "name": "stdout",
     "output_type": "stream",
     "text": [
      "Found 5510 images belonging to 2 classes.\n"
     ]
    }
   ],
   "source": [
    "validation_data_generator = datagen.flow_from_directory(directory='Malaria-Classification-Using-CNN/malaria-dataset',\n",
    "                                                   target_size = (img_width, img_height),\n",
    "                                                   class_mode = 'binary',\n",
    "                                                   batch_size = 16,\n",
    "                                                   subset = 'validation'\n",
    "                                                   )"
   ]
  },
  {
   "cell_type": "code",
   "execution_count": 8,
   "metadata": {
    "colab": {
     "base_uri": "https://localhost:8080/",
     "height": 34
    },
    "colab_type": "code",
    "id": "AG-yTDwtzHaP",
    "outputId": "cec5ee99-dfb4-4360-88d1-a2dc7f241e94"
   },
   "outputs": [
    {
     "data": {
      "text/plain": [
       "array([0, 0, 0, ..., 1, 1, 1], dtype=int32)"
      ]
     },
     "execution_count": 8,
     "metadata": {},
     "output_type": "execute_result"
    }
   ],
   "source": [
    "train_data_generator.labels"
   ]
  },
  {
   "cell_type": "code",
   "execution_count": 0,
   "metadata": {
    "colab": {},
    "colab_type": "code",
    "id": "bSX3p9W7zHdm"
   },
   "outputs": [],
   "source": []
  },
  {
   "cell_type": "markdown",
   "metadata": {
    "colab_type": "text",
    "id": "DWNbV9na5v7r"
   },
   "source": [
    "## CNN Model Building"
   ]
  },
  {
   "cell_type": "code",
   "execution_count": 9,
   "metadata": {
    "colab": {},
    "colab_type": "code",
    "id": "ib5yNUESzHgH"
   },
   "outputs": [],
   "source": [
    "model = Sequential()\n",
    "\n",
    "model.add(Conv2D(16, (3,3), input_shape = (img_width, img_height, 3), activation='relu'))\n",
    "model.add(MaxPool2D(2,2))\n",
    "model.add(Dropout(0.2))\n",
    "\n",
    "model.add(Conv2D(32, (3,3), activation='relu'))\n",
    "model.add(MaxPool2D(2,2))\n",
    "model.add(Dropout(0.3))\n",
    "\n",
    "model.add(Flatten())\n",
    "model.add(Dense(64, activation='relu'))\n",
    "model.add(Dropout(0.5))\n",
    "\n",
    "model.add(Dense(1, activation='sigmoid'))"
   ]
  },
  {
   "cell_type": "code",
   "execution_count": 10,
   "metadata": {
    "colab": {
     "base_uri": "https://localhost:8080/",
     "height": 487
    },
    "colab_type": "code",
    "id": "0jBf7QUyzHjV",
    "outputId": "b5a4ef74-b405-4ab9-d835-4c650a263166"
   },
   "outputs": [
    {
     "name": "stdout",
     "output_type": "stream",
     "text": [
      "Model: \"sequential\"\n",
      "_________________________________________________________________\n",
      "Layer (type)                 Output Shape              Param #   \n",
      "=================================================================\n",
      "conv2d (Conv2D)              (None, 62, 62, 16)        448       \n",
      "_________________________________________________________________\n",
      "max_pooling2d (MaxPooling2D) (None, 31, 31, 16)        0         \n",
      "_________________________________________________________________\n",
      "dropout (Dropout)            (None, 31, 31, 16)        0         \n",
      "_________________________________________________________________\n",
      "conv2d_1 (Conv2D)            (None, 29, 29, 32)        4640      \n",
      "_________________________________________________________________\n",
      "max_pooling2d_1 (MaxPooling2 (None, 14, 14, 32)        0         \n",
      "_________________________________________________________________\n",
      "dropout_1 (Dropout)          (None, 14, 14, 32)        0         \n",
      "_________________________________________________________________\n",
      "flatten (Flatten)            (None, 6272)              0         \n",
      "_________________________________________________________________\n",
      "dense (Dense)                (None, 64)                401472    \n",
      "_________________________________________________________________\n",
      "dropout_2 (Dropout)          (None, 64)                0         \n",
      "_________________________________________________________________\n",
      "dense_1 (Dense)              (None, 1)                 65        \n",
      "=================================================================\n",
      "Total params: 406,625\n",
      "Trainable params: 406,625\n",
      "Non-trainable params: 0\n",
      "_________________________________________________________________\n"
     ]
    }
   ],
   "source": [
    "model.summary()"
   ]
  },
  {
   "cell_type": "code",
   "execution_count": 11,
   "metadata": {
    "colab": {},
    "colab_type": "code",
    "id": "CFI_j2lTzHmE"
   },
   "outputs": [],
   "source": [
    "model.compile(optimizer='adam', loss='binary_crossentropy', metrics = ['accuracy'])"
   ]
  },
  {
   "cell_type": "code",
   "execution_count": 12,
   "metadata": {
    "colab": {
     "base_uri": "https://localhost:8080/",
     "height": 272
    },
    "colab_type": "code",
    "id": "aAc-JsA9zHqY",
    "outputId": "b979aaa0-e5f3-4b4f-ae23-492f7424a694"
   },
   "outputs": [
    {
     "name": "stdout",
     "output_type": "stream",
     "text": [
      "Epoch 1/5\n",
      "WARNING:tensorflow:From /home/maziyar/anaconda3/envs/tf2/lib/python3.6/site-packages/tensorflow_core/python/ops/math_grad.py:1394: where (from tensorflow.python.ops.array_ops) is deprecated and will be removed in a future version.\n",
      "Instructions for updating:\n",
      "Use tf.where in 2.0, which has the same broadcast rule as np.where\n",
      "1378/1378 [==============================] - 67s 48ms/step - loss: 0.5030 - accuracy: 0.7578 - val_loss: 0.3092 - val_accuracy: 0.9071\n",
      "Epoch 2/5\n",
      "1378/1378 [==============================] - 64s 46ms/step - loss: 0.2635 - accuracy: 0.9234 - val_loss: 0.2870 - val_accuracy: 0.9321\n",
      "Epoch 3/5\n",
      "1378/1378 [==============================] - 65s 47ms/step - loss: 0.2241 - accuracy: 0.9360 - val_loss: 0.2165 - val_accuracy: 0.9318\n",
      "Epoch 4/5\n",
      "1378/1378 [==============================] - 53s 38ms/step - loss: 0.2070 - accuracy: 0.9375 - val_loss: 0.2225 - val_accuracy: 0.9339\n",
      "Epoch 5/5\n",
      "1378/1378 [==============================] - 57s 41ms/step - loss: 0.1857 - accuracy: 0.9419 - val_loss: 0.1933 - val_accuracy: 0.9314\n"
     ]
    }
   ],
   "source": [
    "history = model.fit_generator(generator=train_data_generator,\n",
    "                              steps_per_epoch = len(train_data_generator),\n",
    "                              epochs = 5,\n",
    "                              validation_data = validation_data_generator,\n",
    "                              validation_steps = len(validation_data_generator))"
   ]
  },
  {
   "cell_type": "code",
   "execution_count": 13,
   "metadata": {
    "colab": {
     "base_uri": "https://localhost:8080/",
     "height": 218
    },
    "colab_type": "code",
    "id": "G4uTlLpEzHto",
    "outputId": "d1ae07ec-ab62-4ac2-9490-8fe22039fe0a"
   },
   "outputs": [
    {
     "data": {
      "text/plain": [
       "{'loss': [0.503025199144711,\n",
       "  0.26345908460146455,\n",
       "  0.22408330558457226,\n",
       "  0.20699094712101626,\n",
       "  0.18570598116055326],\n",
       " 'accuracy': [0.7577558, 0.92339444, 0.93600327, 0.93754536, 0.9418541],\n",
       " 'val_loss': [0.30919855381699574,\n",
       "  0.28701429370304815,\n",
       "  0.2165417372856451,\n",
       "  0.22249717484565748,\n",
       "  0.19329469764362212],\n",
       " 'val_accuracy': [0.907078, 0.9321234, 0.93176043, 0.93393826, 0.93139744]}"
      ]
     },
     "execution_count": 13,
     "metadata": {},
     "output_type": "execute_result"
    }
   ],
   "source": [
    "history.history"
   ]
  },
  {
   "cell_type": "code",
   "execution_count": 14,
   "metadata": {
    "colab": {},
    "colab_type": "code",
    "id": "qjmQySABzHyp"
   },
   "outputs": [],
   "source": [
    "def plot_learningCurve(history, epoch):\n",
    "  # Plot training & validation accuracy values\n",
    "  epoch_range = range(1, epoch+1)\n",
    "  plt.plot(epoch_range, history.history['accuracy'])\n",
    "  plt.plot(epoch_range, history.history['val_accuracy'])\n",
    "  plt.title('Model accuracy')\n",
    "  plt.ylabel('Accuracy')\n",
    "  plt.xlabel('Epoch')\n",
    "  plt.legend(['Train', 'Val'], loc='upper left')\n",
    "  plt.show()\n",
    "\n",
    "  # Plot training & validation loss values\n",
    "  plt.plot(epoch_range, history.history['loss'])\n",
    "  plt.plot(epoch_range, history.history['val_loss'])\n",
    "  plt.title('Model loss')\n",
    "  plt.ylabel('Loss')\n",
    "  plt.xlabel('Epoch')\n",
    "  plt.legend(['Train', 'Val'], loc='upper left')\n",
    "  plt.show()"
   ]
  },
  {
   "cell_type": "code",
   "execution_count": 15,
   "metadata": {
    "colab": {
     "base_uri": "https://localhost:8080/",
     "height": 573
    },
    "colab_type": "code",
    "id": "J743xX1ezH1r",
    "outputId": "0dbb4019-c1cf-4302-aaba-d7a7c6816a14"
   },
   "outputs": [
    {
     "data": {
      "image/png": "[encoded data removed]",
      "text/plain": [
       "<Figure size 432x288 with 1 Axes>"
      ]
     },
     "metadata": {
      "needs_background": "light"
     },
     "output_type": "display_data"
    },
    {
     "data": {
      "image/png": "[encoded data removed]",
      "text/plain": [
       "<Figure size 432x288 with 1 Axes>"
      ]
     },
     "metadata": {
      "needs_background": "light"
     },
     "output_type": "display_data"
    }
   ],
   "source": [
    "plot_learningCurve(history, 5)"
   ]
  }
 ],
 "metadata": {
  "accelerator": "TPU",
  "colab": {
   "name": "TensorFlow 2.0 Tutorial for Beginners 15 - Malaria Parasite Detection Using CNN.ipynb",
   "provenance": [],
   "toc_visible": true,
   "version": "0.3.2"
  },
  "kernelspec": {
   "display_name": "Python 3",
   "language": "python",
   "name": "python3"
  },
  "language_info": {
   "codemirror_mode": {
    "name": "ipython",
    "version": 3
   },
   "file_extension": ".py",
   "mimetype": "text/x-python",
   "name": "python",
   "nbconvert_exporter": "python",
   "pygments_lexer": "ipython3",
   "version": "3.6.9"
  }
 },
 "nbformat": 4,
 "nbformat_minor": 1
}
