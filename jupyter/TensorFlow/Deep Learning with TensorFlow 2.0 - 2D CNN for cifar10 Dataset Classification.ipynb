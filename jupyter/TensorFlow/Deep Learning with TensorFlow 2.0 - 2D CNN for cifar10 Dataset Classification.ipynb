{
 "cells": [
  {
   "cell_type": "markdown",
   "metadata": {
    "colab_type": "text",
    "id": "IIfEYEoyLUI2"
   },
   "source": [
    "## 2D CNN in TensorFlow 2.0 - Build Your First Cifar10 Image Classifier in TensorFlow 2.0 "
   ]
  },
  {
   "cell_type": "markdown",
   "metadata": {
    "colab_type": "text",
    "id": "95MUz1g-r7Bu"
   },
   "source": [
    "Watch Full Lesson Here: https://youtu.be/7gGxBGvSAa0"
   ]
  },
  {
   "cell_type": "markdown",
   "metadata": {
    "colab_type": "text",
    "id": "ISD_RncZLUI4"
   },
   "source": [
    "## What is CNN "
   ]
  },
  {
   "cell_type": "markdown",
   "metadata": {
    "colab_type": "text",
    "id": "C9Ygbp39LUI5"
   },
   "source": [
    "![alt text](https://miro.medium.com/max/2510/1*vkQ0hXDaQv57sALXAJquxA.jpeg)"
   ]
  },
  {
   "cell_type": "markdown",
   "metadata": {
    "colab_type": "text",
    "id": "ygUfjZWlLUI5"
   },
   "source": [
    "# Important Terms of CNN "
   ]
  },
  {
   "cell_type": "markdown",
   "metadata": {
    "colab_type": "text",
    "id": "zuh-ceb6LUI6"
   },
   "source": [
    "## Convolutional Layer "
   ]
  },
  {
   "cell_type": "markdown",
   "metadata": {
    "colab_type": "text",
    "id": "zMHX1QeqLUI7"
   },
   "source": [
    "![alt text](https://adeshpande3.github.io/assets/Cover.png)"
   ]
  },
  {
   "cell_type": "markdown",
   "metadata": {
    "colab_type": "text",
    "id": "oRobA0fXLUI8"
   },
   "source": [
    "## Activation Function "
   ]
  },
  {
   "cell_type": "markdown",
   "metadata": {
    "colab_type": "text",
    "id": "kAtfYNLzLUI8"
   },
   "source": [
    "![alt text](https://isaacchanghau.github.io/img/deeplearning/activationfunction/intro.png)"
   ]
  },
  {
   "cell_type": "markdown",
   "metadata": {
    "colab_type": "text",
    "id": "lKLlkUEfLUI9"
   },
   "source": [
    "![alt text](https://miro.medium.com/max/1192/1*4ZEDRpFuCIpUjNgjDdT2Lg.png)"
   ]
  },
  {
   "cell_type": "markdown",
   "metadata": {
    "colab_type": "text",
    "id": "Up7hn5cDLUI-"
   },
   "source": [
    "## Filter or Kernel Size and  Number of Filters "
   ]
  },
  {
   "cell_type": "markdown",
   "metadata": {
    "colab_type": "text",
    "id": "2OlHoiFALUI_"
   },
   "source": [
    "![alt text](https://i2.wp.com/i.stack.imgur.com/qmf0m.jpg)"
   ]
  },
  {
   "cell_type": "markdown",
   "metadata": {
    "colab_type": "text",
    "id": "sK1VGTTpLUI_"
   },
   "source": [
    "## Stride Size "
   ]
  },
  {
   "cell_type": "markdown",
   "metadata": {
    "colab_type": "text",
    "id": "Qoro7L6WLUJB"
   },
   "source": [
    "## Padding "
   ]
  },
  {
   "cell_type": "markdown",
   "metadata": {
    "colab_type": "text",
    "id": "iLOCK3zWLUJB"
   },
   "source": [
    "<img src = \"https://s3-us-west-2.amazonaws.com/static.pyimagesearch.com/keras-conv2d/keras_conv2d_padding.gif\">"
   ]
  },
  {
   "cell_type": "markdown",
   "metadata": {
    "colab_type": "text",
    "id": "nRSib5TpLUJC"
   },
   "source": [
    "## Max Pooling"
   ]
  },
  {
   "cell_type": "markdown",
   "metadata": {
    "colab_type": "text",
    "id": "26jIMAe6LUJD"
   },
   "source": [
    "![alt text](https://qph.fs.quoracdn.net/main-qimg-98ecf7ba49710bf56042d035a74505b6)"
   ]
  },
  {
   "cell_type": "markdown",
   "metadata": {
    "colab_type": "text",
    "id": "GAIPulw6LUJE"
   },
   "source": [
    "## Flattening and Dense Layer "
   ]
  },
  {
   "cell_type": "markdown",
   "metadata": {
    "colab_type": "text",
    "id": "5cifbN8SLUJF"
   },
   "source": [
    "In between the convolutional layer and the fully connected layer, there is a 'Flatten' layer. Flattening transforms a two-dimensional matrix of features into a vector that can be fed into a fully connected neural network classifier."
   ]
  },
  {
   "cell_type": "markdown",
   "metadata": {
    "colab_type": "text",
    "id": "f431WjbELUJF"
   },
   "source": [
    "## Download Data and Model Building"
   ]
  },
  {
   "cell_type": "code",
   "execution_count": 1,
   "metadata": {
    "colab": {},
    "colab_type": "code",
    "id": "IdQi30u3pg-m"
   },
   "outputs": [],
   "source": [
    "import tensorflow as tf\n",
    "from tensorflow.keras import Sequential\n",
    "from tensorflow.keras.layers import Flatten, Dense, Conv2D, MaxPool2D, Dropout"
   ]
  },
  {
   "cell_type": "code",
   "execution_count": 2,
   "metadata": {
    "colab": {
     "base_uri": "https://localhost:8080/",
     "height": 34
    },
    "colab_type": "code",
    "id": "28brD1iNphJv",
    "outputId": "6373a68f-4121-49c1-b279-8b598464e654"
   },
   "outputs": [
    {
     "name": "stdout",
     "output_type": "stream",
     "text": [
      "2.0.0-rc0\n"
     ]
    }
   ],
   "source": [
    "print(tf.__version__)"
   ]
  },
  {
   "cell_type": "code",
   "execution_count": 3,
   "metadata": {
    "colab": {},
    "colab_type": "code",
    "id": "YAnPhCEEphSi"
   },
   "outputs": [],
   "source": [
    "import numpy as np\n",
    "import matplotlib.pyplot as plt\n",
    "import matplotlib"
   ]
  },
  {
   "cell_type": "code",
   "execution_count": 4,
   "metadata": {
    "colab": {},
    "colab_type": "code",
    "id": "INsOHzeVLUKE"
   },
   "outputs": [],
   "source": [
    "from tensorflow.keras.datasets import cifar10"
   ]
  },
  {
   "cell_type": "code",
   "execution_count": 5,
   "metadata": {
    "colab": {
     "base_uri": "https://localhost:8080/",
     "height": 50
    },
    "colab_type": "code",
    "id": "qtDbUZ9f-pbv",
    "outputId": "77b54ff7-30a3-4ce2-c438-310a534e4983"
   },
   "outputs": [],
   "source": [
    "(X_train, y_train), (X_test, y_test) = cifar10.load_data()"
   ]
  },
  {
   "cell_type": "code",
   "execution_count": 6,
   "metadata": {
    "colab": {},
    "colab_type": "code",
    "id": "qE-RGBzX-zB-"
   },
   "outputs": [],
   "source": [
    "classes_name = ['airplane', 'automobile', 'bird', 'cat', 'deer', 'dog', 'frog', 'horse', 'ship', 'truck']"
   ]
  },
  {
   "cell_type": "code",
   "execution_count": 7,
   "metadata": {
    "colab": {
     "base_uri": "https://localhost:8080/",
     "height": 34
    },
    "colab_type": "code",
    "id": "WICrZ1_4_G7g",
    "outputId": "47be69dc-7da2-4a8a-f9aa-93d22dd3a4b8"
   },
   "outputs": [
    {
     "data": {
      "text/plain": [
       "255"
      ]
     },
     "execution_count": 7,
     "metadata": {},
     "output_type": "execute_result"
    }
   ],
   "source": [
    "X_train.max()"
   ]
  },
  {
   "cell_type": "code",
   "execution_count": 8,
   "metadata": {
    "colab": {},
    "colab_type": "code",
    "id": "ItBZmpeI_Ni1"
   },
   "outputs": [],
   "source": [
    "X_train = X_train/255\n",
    "X_test = X_test/255"
   ]
  },
  {
   "cell_type": "code",
   "execution_count": 9,
   "metadata": {
    "colab": {
     "base_uri": "https://localhost:8080/",
     "height": 34
    },
    "colab_type": "code",
    "id": "E7yRun36_Z61",
    "outputId": "565a5791-16b9-44ae-c74e-f9f43b8739e6"
   },
   "outputs": [
    {
     "data": {
      "text/plain": [
       "(50000, 32, 32, 3)"
      ]
     },
     "execution_count": 9,
     "metadata": {},
     "output_type": "execute_result"
    }
   ],
   "source": [
    "X_train.shape"
   ]
  },
  {
   "cell_type": "code",
   "execution_count": 10,
   "metadata": {
    "colab": {
     "base_uri": "https://localhost:8080/",
     "height": 34
    },
    "colab_type": "code",
    "id": "IZHrCj7C_cUk",
    "outputId": "7d7dca72-38ec-46ff-d420-64695e0594a1"
   },
   "outputs": [
    {
     "data": {
      "text/plain": [
       "(10000, 32, 32, 3)"
      ]
     },
     "execution_count": 10,
     "metadata": {},
     "output_type": "execute_result"
    }
   ],
   "source": [
    "X_test.shape"
   ]
  },
  {
   "cell_type": "code",
   "execution_count": 11,
   "metadata": {
    "colab": {
     "base_uri": "https://localhost:8080/",
     "height": 286
    },
    "colab_type": "code",
    "id": "Fkj0DKDw_iuU",
    "outputId": "b84e34bd-4e14-475f-fb7f-75cfa5d7f6bd"
   },
   "outputs": [
    {
     "data": {
      "text/plain": [
       "<matplotlib.image.AxesImage at 0x7fd478d5a9e8>"
      ]
     },
     "execution_count": 11,
     "metadata": {},
     "output_type": "execute_result"
    },
    {
     "data": {
      "image/png": "[encoded data removed]",
      "text/plain": [
       "<Figure size 432x288 with 1 Axes>"
      ]
     },
     "metadata": {
      "needs_background": "light"
     },
     "output_type": "display_data"
    }
   ],
   "source": [
    "plt.imshow(X_test[0])"
   ]
  },
  {
   "cell_type": "code",
   "execution_count": 12,
   "metadata": {
    "colab": {
     "base_uri": "https://localhost:8080/",
     "height": 134
    },
    "colab_type": "code",
    "id": "_U6WgJlJ_rgM",
    "outputId": "a2cb99c5-96e1-4574-a618-59edb3fbf440"
   },
   "outputs": [
    {
     "data": {
      "text/plain": [
       "array([[3],\n",
       "       [8],\n",
       "       [8],\n",
       "       ...,\n",
       "       [5],\n",
       "       [1],\n",
       "       [7]], dtype=uint8)"
      ]
     },
     "execution_count": 12,
     "metadata": {},
     "output_type": "execute_result"
    }
   ],
   "source": [
    "y_test"
   ]
  },
  {
   "cell_type": "markdown",
   "metadata": {
    "colab_type": "text",
    "id": "l6_52RZd_3iL"
   },
   "source": [
    "## Build CNN Model"
   ]
  },
  {
   "cell_type": "code",
   "execution_count": 13,
   "metadata": {
    "colab": {},
    "colab_type": "code",
    "id": "TE9OT0l3_t6M"
   },
   "outputs": [],
   "source": [
    "model = Sequential()\n",
    "model.add(Conv2D(filters=32, kernel_size=(3, 3), padding='same', activation='relu', input_shape = [32, 32, 3]))\n",
    "\n",
    "model.add(Conv2D(filters=32, kernel_size=(3, 3), padding='same', activation='relu'))\n",
    "model.add(MaxPool2D(pool_size=(2,2), strides=2, padding='valid'))\n",
    "model.add(Dropout(0.5))\n",
    "\n",
    "model.add(Flatten())\n",
    "model.add(Dense(units = 128, activation='relu'))\n",
    "model.add(Dense(units=10, activation='softmax'))\n"
   ]
  },
  {
   "cell_type": "code",
   "execution_count": 14,
   "metadata": {
    "colab": {
     "base_uri": "https://localhost:8080/",
     "height": 386
    },
    "colab_type": "code",
    "id": "GSMuuDwX_1SY",
    "outputId": "219814cf-015a-48cc-be19-29c3f56f90b9"
   },
   "outputs": [
    {
     "name": "stdout",
     "output_type": "stream",
     "text": [
      "Model: \"sequential\"\n",
      "_________________________________________________________________\n",
      "Layer (type)                 Output Shape              Param #   \n",
      "=================================================================\n",
      "conv2d (Conv2D)              (None, 32, 32, 32)        896       \n",
      "_________________________________________________________________\n",
      "conv2d_1 (Conv2D)            (None, 32, 32, 32)        9248      \n",
      "_________________________________________________________________\n",
      "max_pooling2d (MaxPooling2D) (None, 16, 16, 32)        0         \n",
      "_________________________________________________________________\n",
      "dropout (Dropout)            (None, 16, 16, 32)        0         \n",
      "_________________________________________________________________\n",
      "flatten (Flatten)            (None, 8192)              0         \n",
      "_________________________________________________________________\n",
      "dense (Dense)                (None, 128)               1048704   \n",
      "_________________________________________________________________\n",
      "dense_1 (Dense)              (None, 10)                1290      \n",
      "=================================================================\n",
      "Total params: 1,060,138\n",
      "Trainable params: 1,060,138\n",
      "Non-trainable params: 0\n",
      "_________________________________________________________________\n"
     ]
    }
   ],
   "source": [
    "model.summary()"
   ]
  },
  {
   "cell_type": "code",
   "execution_count": 15,
   "metadata": {
    "colab": {},
    "colab_type": "code",
    "id": "MIjjDsxM_1WO"
   },
   "outputs": [],
   "source": [
    "model.compile(optimizer='adam', loss = 'sparse_categorical_crossentropy', metrics=['sparse_categorical_accuracy'])"
   ]
  },
  {
   "cell_type": "code",
   "execution_count": 16,
   "metadata": {
    "colab": {
     "base_uri": "https://localhost:8080/",
     "height": 370
    },
    "colab_type": "code",
    "id": "HymomjmG_1b8",
    "outputId": "90ffd4ab-be40-4fc3-deef-34dce3d376e5"
   },
   "outputs": [
    {
     "name": "stdout",
     "output_type": "stream",
     "text": [
      "Train on 50000 samples, validate on 10000 samples\n",
      "Epoch 1/10\n",
      "50000/50000 [==============================] - 69s 1ms/sample - loss: 1.4162 - sparse_categorical_accuracy: 0.4924 - val_loss: 1.1473 - val_sparse_categorical_accuracy: 0.5889\n",
      "Epoch 2/10\n",
      "50000/50000 [==============================] - 69s 1ms/sample - loss: 1.1259 - sparse_categorical_accuracy: 0.6006 - val_loss: 1.0175 - val_sparse_categorical_accuracy: 0.6399\n",
      "Epoch 3/10\n",
      "50000/50000 [==============================] - 70s 1ms/sample - loss: 0.9976 - sparse_categorical_accuracy: 0.6492 - val_loss: 0.9800 - val_sparse_categorical_accuracy: 0.6557\n",
      "Epoch 4/10\n",
      "50000/50000 [==============================] - 70s 1ms/sample - loss: 0.9125 - sparse_categorical_accuracy: 0.6803 - val_loss: 0.9219 - val_sparse_categorical_accuracy: 0.6789\n",
      "Epoch 5/10\n",
      "50000/50000 [==============================] - 72s 1ms/sample - loss: 0.8454 - sparse_categorical_accuracy: 0.7004 - val_loss: 0.9282 - val_sparse_categorical_accuracy: 0.6756\n",
      "Epoch 6/10\n",
      "50000/50000 [==============================] - 73s 1ms/sample - loss: 0.7907 - sparse_categorical_accuracy: 0.7195 - val_loss: 0.9029 - val_sparse_categorical_accuracy: 0.6850\n",
      "Epoch 7/10\n",
      "50000/50000 [==============================] - 74s 1ms/sample - loss: 0.7413 - sparse_categorical_accuracy: 0.7359 - val_loss: 0.9266 - val_sparse_categorical_accuracy: 0.6763\n",
      "Epoch 8/10\n",
      "50000/50000 [==============================] - 78s 2ms/sample - loss: 0.7128 - sparse_categorical_accuracy: 0.7465 - val_loss: 0.8944 - val_sparse_categorical_accuracy: 0.6933\n",
      "Epoch 9/10\n",
      "50000/50000 [==============================] - 80s 2ms/sample - loss: 0.6743 - sparse_categorical_accuracy: 0.7615 - val_loss: 0.9054 - val_sparse_categorical_accuracy: 0.6865\n",
      "Epoch 10/10\n",
      "50000/50000 [==============================] - 79s 2ms/sample - loss: 0.6432 - sparse_categorical_accuracy: 0.7718 - val_loss: 0.9224 - val_sparse_categorical_accuracy: 0.6865\n"
     ]
    }
   ],
   "source": [
    "history = model.fit(X_train, y_train, batch_size=10, epochs=10, verbose=1, validation_data=(X_test, y_test))"
   ]
  },
  {
   "cell_type": "code",
   "execution_count": 17,
   "metadata": {
    "colab": {
     "base_uri": "https://localhost:8080/",
     "height": 574
    },
    "colab_type": "code",
    "id": "WZIuMtXG_1j0",
    "outputId": "cf24a0e7-2554-4f6e-d338-0063e5ab33da"
   },
   "outputs": [
    {
     "data": {
      "image/png": "[encoded data removed]",
      "text/plain": [
       "<Figure size 432x288 with 1 Axes>"
      ]
     },
     "metadata": {
      "needs_background": "light"
     },
     "output_type": "display_data"
    },
    {
     "data": {
      "image/png": "[encoded data removed]",
      "text/plain": [
       "<Figure size 432x288 with 1 Axes>"
      ]
     },
     "metadata": {
      "needs_background": "light"
     },
     "output_type": "display_data"
    }
   ],
   "source": [
    "# Plot training & validation accuracy values\n",
    "epoch_range = range(1, 11)\n",
    "plt.plot(epoch_range, history.history['sparse_categorical_accuracy'])\n",
    "plt.plot(epoch_range, history.history['val_sparse_categorical_accuracy'])\n",
    "plt.title('Model accuracy')\n",
    "plt.ylabel('Accuracy')\n",
    "plt.xlabel('Epoch')\n",
    "plt.legend(['Train', 'Val'], loc='upper left')\n",
    "plt.show()\n",
    "\n",
    "# Plot training & validation loss values\n",
    "plt.plot(epoch_range, history.history['loss'])\n",
    "plt.plot(epoch_range, history.history['val_loss'])\n",
    "plt.title('Model loss')\n",
    "plt.ylabel('Loss')\n",
    "plt.xlabel('Epoch')\n",
    "plt.legend(['Train', 'Val'], loc='upper left')\n",
    "plt.show()"
   ]
  },
  {
   "cell_type": "code",
   "execution_count": 0,
   "metadata": {
    "colab": {},
    "colab_type": "code",
    "id": "DUTZdT-U_1pY"
   },
   "outputs": [],
   "source": [
    "from mlxtend.plotting import plot_confusion_matrix\n",
    "from sklearn.metrics import confusion_matrix"
   ]
  },
  {
   "cell_type": "code",
   "execution_count": 0,
   "metadata": {
    "colab": {},
    "colab_type": "code",
    "id": "SCLBZYjh_1uh"
   },
   "outputs": [],
   "source": [
    "y_pred = model.predict_classes(X_test)"
   ]
  },
  {
   "cell_type": "code",
   "execution_count": 28,
   "metadata": {
    "colab": {
     "base_uri": "https://localhost:8080/",
     "height": 34
    },
    "colab_type": "code",
    "id": "1mm5dyOz_1z4",
    "outputId": "7fa3a543-0e5c-4e7d-9c97-654838286907"
   },
   "outputs": [
    {
     "data": {
      "text/plain": [
       "array([3, 8, 0, ..., 3, 1, 7])"
      ]
     },
     "execution_count": 28,
     "metadata": {
      "tags": []
     },
     "output_type": "execute_result"
    }
   ],
   "source": [
    "y_pred"
   ]
  },
  {
   "cell_type": "code",
   "execution_count": 29,
   "metadata": {
    "colab": {
     "base_uri": "https://localhost:8080/",
     "height": 134
    },
    "colab_type": "code",
    "id": "Nu0KT7Q-_18H",
    "outputId": "ee39aa68-52dd-4a4c-e8ba-8efcb9960483"
   },
   "outputs": [
    {
     "data": {
      "text/plain": [
       "array([[3],\n",
       "       [8],\n",
       "       [8],\n",
       "       ...,\n",
       "       [5],\n",
       "       [1],\n",
       "       [7]], dtype=uint8)"
      ]
     },
     "execution_count": 29,
     "metadata": {
      "tags": []
     },
     "output_type": "execute_result"
    }
   ],
   "source": [
    "y_test"
   ]
  },
  {
   "cell_type": "code",
   "execution_count": 0,
   "metadata": {
    "colab": {},
    "colab_type": "code",
    "id": "lCLAP_RX_2Gv"
   },
   "outputs": [],
   "source": [
    "mat = confusion_matrix(y_test, y_pred)"
   ]
  },
  {
   "cell_type": "code",
   "execution_count": 34,
   "metadata": {
    "colab": {
     "base_uri": "https://localhost:8080/",
     "height": 185
    },
    "colab_type": "code",
    "id": "rzWoflfi_2LE",
    "outputId": "e8f33d79-6bc4-4e30-cc25-f712f4fb8447"
   },
   "outputs": [
    {
     "data": {
      "text/plain": [
       "array([[687,  23,  59,  21,  28,  11,  16,  10,  86,  59],\n",
       "       [  5, 791,  13,  11,   1,   1,   5,   2,  35, 136],\n",
       "       [ 55,   4, 551,  69,  86,  71,  88,  43,  24,   9],\n",
       "       [ 12,   7,  64, 518,  62, 199,  61,  34,  14,  29],\n",
       "       [ 10,   6,  57,  69, 683,  37,  57,  65,  10,   6],\n",
       "       [  8,   5,  52, 182,  51, 597,  20,  61,  13,  11],\n",
       "       [  5,   5,  41,  60,  41,  26, 795,   6,  16,   5],\n",
       "       [  9,   5,  31,  46,  60,  62,   5, 761,   5,  16],\n",
       "       [ 37,  28,  12,  19,   7,   9,   5,   8, 834,  41],\n",
       "       [ 23,  76,   5,  16,   4,   5,   7,  22,  31, 811]])"
      ]
     },
     "execution_count": 34,
     "metadata": {
      "tags": []
     },
     "output_type": "execute_result"
    }
   ],
   "source": [
    "mat"
   ]
  },
  {
   "cell_type": "code",
   "execution_count": 38,
   "metadata": {
    "colab": {
     "base_uri": "https://localhost:8080/",
     "height": 625
    },
    "colab_type": "code",
    "id": "PU2-6se5_2VU",
    "outputId": "f2cd179a-9787-427b-a90e-6518593af38c"
   },
   "outputs": [
    {
     "data": {
      "text/plain": [
       "(<Figure size 648x648 with 1 Axes>,\n",
       " <matplotlib.axes._subplots.AxesSubplot at 0x7f6ba55ae518>)"
      ]
     },
     "execution_count": 38,
     "metadata": {
      "tags": []
     },
     "output_type": "execute_result"
    },
    {
     "data": {
      "image/png": "[encoded data removed]",
      "text/plain": [
       "<Figure size 648x648 with 1 Axes>"
      ]
     },
     "metadata": {
      "tags": []
     },
     "output_type": "display_data"
    }
   ],
   "source": [
    "plot_confusion_matrix(mat,figsize=(9,9), class_names=classes_name, show_normed=True)"
   ]
  }
 ],
 "metadata": {
  "accelerator": "TPU",
  "colab": {
   "name": "TensorFlow 2.0 Tutorials for Beginners - 2D CNN in TensorFlow 2.0 for cifar10 Dataset Classification.ipynb",
   "provenance": [],
   "version": "0.3.2"
  },
  "kernelspec": {
   "display_name": "Python 3",
   "language": "python",
   "name": "python3"
  },
  "language_info": {
   "codemirror_mode": {
    "name": "ipython",
    "version": 3
   },
   "file_extension": ".py",
   "mimetype": "text/x-python",
   "name": "python",
   "nbconvert_exporter": "python",
   "pygments_lexer": "ipython3",
   "version": "3.6.8"
  }
 },
 "nbformat": 4,
 "nbformat_minor": 1
}
