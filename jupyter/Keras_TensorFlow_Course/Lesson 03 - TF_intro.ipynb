{
 "cells": [
  {
   "cell_type": "markdown",
   "metadata": {},
   "source": [
    "# Intro to TensorFlow\n",
    "\n",
    "https://www.youtube.com/watch?v=q5iL3XYFv2M\n",
    "\n",
    "## Backpropagation on zero hidden layer classification case\n",
    "Suppose we are required to learn the function that maps $x$ (the inputs) to $y$ (the outputs). In this particular instance we restrict ourselves to the case that $y=\\sigma(Wx)$. The maths behind regression is shown below:\n",
    "\\begin{align}\n",
    "z_i =& Wx_i\\\\\n",
    "a_i =& \\sigma(z_i)\n",
    "\\end{align}\n",
    "where $\\sigma(z_i) = 1/(1+exp(-z_i))$ is the sigmoid function. $a_i$ is commonly known as the activation. **The loss function** is $$\\mathcal{L} = \\frac{1}{2N}\\sum_i (y_i-a_i)^2$$. \n",
    "\n",
    "**We need to adjust the $W$ to minimise the loss function**. We use the chain rule:\n",
    "\\begin{align}\n",
    "\\frac{d \\mathcal{L}}{dW} =& \\sum_i \\frac{d\\mathcal{L}}{da_i}\\frac{da_i}{dz_i}\\frac{dz_i}{dW}\\\\\n",
    "=& \\frac{1}{N}\\sum_i -(y_i-a_i)\\cdot\\frac{\\exp(-z)}{(1+\\exp(-z))^2}\\cdot x_i\\\\\n",
    "=& \\frac{1}{N}\\sum_i -(y_i-a_i)\\cdot a_i(1-a_i)\\cdot x_i\n",
    "\\end{align}"
   ]
  },
  {
   "cell_type": "code",
   "execution_count": 4,
   "metadata": {},
   "outputs": [
    {
     "data": {
      "text/html": [
       "<iframe width=\"560\" height=\"315\" src=\"https://www.youtube.com/embed/q5iL3XYFv2M?rel=0&amp;controls=0&amp;showinfo=0\" frameborder=\"0\" allowfullscreen></iframe>"
      ],
      "text/plain": [
       "<IPython.core.display.HTML object>"
      ]
     },
     "execution_count": 4,
     "metadata": {},
     "output_type": "execute_result"
    }
   ],
   "source": [
    "from IPython.display import HTML\n",
    "\n",
    "HTML('<iframe width=\"560\" height=\"315\" src=\"https://www.youtube.com/embed/q5iL3XYFv2M?rel=0&amp;controls=0&amp;showinfo=0\" frameborder=\"0\" allowfullscreen></iframe>')\n"
   ]
  },
  {
   "cell_type": "code",
   "execution_count": 6,
   "metadata": {
    "collapsed": true
   },
   "outputs": [],
   "source": [
    "import numpy as np\n",
    "import matplotlib.pyplot as plt\n",
    "np.random.seed(42)\n",
    "\n",
    "%matplotlib inline"
   ]
  },
  {
   "cell_type": "code",
   "execution_count": 2,
   "metadata": {},
   "outputs": [
    {
     "data": {
      "text/plain": [
       "[<matplotlib.lines.Line2D at 0x1111b02b0>]"
      ]
     },
     "execution_count": 2,
     "metadata": {},
     "output_type": "execute_result"
    },
    {
     "data": {
      "image/png": "[encoded data removed]",
      "text/plain": [
       "<matplotlib.figure.Figure at 0x10f14b0b8>"
      ]
     },
     "metadata": {},
     "output_type": "display_data"
    }
   ],
   "source": [
    "def sigmoid(z):\n",
    "    return 1/(1+np.exp(-z))\n",
    "\n",
    "z = np.arange(-5,5,0.1)\n",
    "\n",
    "plt.plot(z,sigmoid(z))\n",
    "plt.plot([0,0],[0,1],'r')\n",
    "plt.plot([-6,6],[0.5,0.5],'r')"
   ]
  },
  {
   "cell_type": "code",
   "execution_count": 7,
   "metadata": {
    "collapsed": true
   },
   "outputs": [],
   "source": [
    "N = 1000\n",
    "D = 5\n",
    "\n",
    "X = 5*np.random.randn(N,D)\n",
    "w = np.random.randn(D,1)\n",
    "y = X.dot(w)\n",
    "\n",
    "y[y<=0] = 0 \n",
    "y[y>0] = 1"
   ]
  },
  {
   "cell_type": "code",
   "execution_count": 9,
   "metadata": {
    "collapsed": true
   },
   "outputs": [],
   "source": [
    "train_X = X[1:100]\n",
    "test_X = X[100:]"
   ]
  },
  {
   "cell_type": "code",
   "execution_count": 33,
   "metadata": {},
   "outputs": [
    {
     "data": {
      "text/plain": [
       "(1000, 5)"
      ]
     },
     "execution_count": 33,
     "metadata": {},
     "output_type": "execute_result"
    }
   ],
   "source": [
    "X.shape"
   ]
  },
  {
   "cell_type": "code",
   "execution_count": 34,
   "metadata": {},
   "outputs": [
    {
     "data": {
      "text/plain": [
       "(99, 5)"
      ]
     },
     "execution_count": 34,
     "metadata": {},
     "output_type": "execute_result"
    }
   ],
   "source": [
    "train_X.shape"
   ]
  },
  {
   "cell_type": "code",
   "execution_count": 35,
   "metadata": {},
   "outputs": [
    {
     "data": {
      "text/plain": [
       "(900, 5)"
      ]
     },
     "execution_count": 35,
     "metadata": {},
     "output_type": "execute_result"
    }
   ],
   "source": [
    "test_X.shape"
   ]
  },
  {
   "cell_type": "code",
   "execution_count": 13,
   "metadata": {
    "collapsed": true
   },
   "outputs": [],
   "source": [
    "def dL_dw(X,e,a):\n",
    "    return -X.T.dot(e*a*(1-a))/len(X)\n",
    "\n",
    "def gradient_descent(gamma=5e-1, n_epochs=1000, batch_size=100, decay=0.9):\n",
    "    epoch_run = int(len(X)/batch_size)\n",
    "    \n",
    "    # get starting conditions\n",
    "    w = np.random.randn(D,1)\n",
    "    params = []\n",
    "    loss = np.zeros((n_epochs,1))\n",
    "    for i in range(n_epochs):\n",
    "        params.append(w)\n",
    "        \n",
    "        for j in range(epoch_run):\n",
    "            idx = np.random.choice(len(X),batch_size,replace=False)\n",
    "            a = sigmoid(X[idx].dot(w)) # Activation function\n",
    "            e = y[idx] - a # Really important that you use y_obs and not y (you do not have access to true y)\n",
    "            #update parameters\n",
    "            w = w - gamma*dL_dw(X[idx],e,a)\n",
    "        loss[i] = 0.5*e.T.dot(e)/len(e)    \n",
    "        gamma = gamma*decay #decay the learning parameter\n",
    "        \n",
    "    return params, loss\n",
    "        \n",
    "params, loss = gradient_descent()"
   ]
  },
  {
   "cell_type": "code",
   "execution_count": 14,
   "metadata": {},
   "outputs": [
    {
     "data": {
      "text/plain": [
       "[<matplotlib.lines.Line2D at 0x7f06656d3d30>]"
      ]
     },
     "execution_count": 14,
     "metadata": {},
     "output_type": "execute_result"
    },
    {
     "data": {
      "image/png": "[encoded data removed]",
      "text/plain": [
       "<matplotlib.figure.Figure at 0x7f06657154e0>"
      ]
     },
     "metadata": {},
     "output_type": "display_data"
    }
   ],
   "source": [
    "plt.plot(loss)"
   ]
  },
  {
   "cell_type": "code",
   "execution_count": 15,
   "metadata": {},
   "outputs": [
    {
     "data": {
      "text/plain": [
       "array([[-0.31226165, -0.42375968],\n",
       "       [-0.34929182, -0.45341411],\n",
       "       [-1.3870532 , -1.79564317],\n",
       "       [-0.24588416, -0.33009019],\n",
       "       [ 0.53334152,  0.73282908]])"
      ]
     },
     "execution_count": 15,
     "metadata": {},
     "output_type": "execute_result"
    }
   ],
   "source": [
    "np.hstack([params[-1],w])"
   ]
  },
  {
   "cell_type": "code",
   "execution_count": 34,
   "metadata": {},
   "outputs": [
    {
     "data": {
      "text/plain": [
       "array([[ 0.00271073]])"
      ]
     },
     "execution_count": 34,
     "metadata": {},
     "output_type": "execute_result"
    }
   ],
   "source": [
    "idx = np.random.choice(len(X),20,replace=False)\n",
    "a = sigmoid(X[idx].dot(w)) # Activation function\n",
    "e = y[idx] - a\n",
    "0.5*e.T.dot(e)/len(e)"
   ]
  },
  {
   "cell_type": "code",
   "execution_count": 39,
   "metadata": {
    "collapsed": true
   },
   "outputs": [],
   "source": [
    "# Classification error\n",
    "X_test = 5*np.random.randn(100,D)\n",
    "y_test = X_test.dot(w)\n",
    "y_test[y_test<=0] = 0 \n",
    "y_test[y_test>0] = 1\n",
    "\n",
    "y_inferred = sigmoid(X_test.dot(params[-1])) # Get a probability measure given X\n",
    "# y_inferred[y_inferred>0.5] = 1\n",
    "# y_inferred[y_inferred<=0.5] = 0\n",
    "\n",
    "# np.sum(y_test==y_inferred)"
   ]
  },
  {
   "cell_type": "markdown",
   "metadata": {},
   "source": [
    "## Cross Entropy Error\n",
    "\n",
    "We shall focus on doing the same as above with a different loss function, the Cross Entropy Loss function.\n",
    "$$\\mathcal{L} = -\\frac{1}{N}\\sum_i y_i\\log(a_i)+(1-y_i)\\log(1-a_i)$$.\n",
    "\n",
    "The following remains the same:\n",
    "\\begin{align}\n",
    "z_i =& Wx_i\\\\\n",
    "a_i =& \\sigma(z_i)\n",
    "\\end{align}\n",
    "and the derivative,\n",
    "\\begin{align}\n",
    "\\frac{d \\mathcal{L}}{dW} =& \\sum_i \\frac{d\\mathcal{L}}{da_i}\\frac{da_i}{dz_i}\\frac{dz_i}{dW}\\\\\n",
    "=& \\frac{1}{N}\\sum_i -\\left(\\frac{y_i}{a_i}-\\frac{1-y_i}{1-a_i}\\right)\\cdot\\frac{\\exp(-z)}{(1+\\exp(-z))^2}\\cdot x_i\\\\\n",
    "=& \\frac{1}{N}\\sum_i -\\left(\\frac{y_i-a_i}{a_i(1-a_i)}\\right)\\cdot a_i(1-a_i)\\cdot x_i\\\\\n",
    "=& \\frac{1}{N}\\sum_i -(y_i-a_i)\\cdot x_i\n",
    "\\end{align}"
   ]
  },
  {
   "cell_type": "code",
   "execution_count": 10,
   "metadata": {
    "collapsed": true
   },
   "outputs": [],
   "source": [
    "# from IPython.core.debugger import Tracer;\n",
    "\n",
    "def dL_dw(X,e,a):\n",
    "    return -X.T.dot(e)/len(X)\n",
    "\n",
    "def gradient_descent(gamma=1e-2, n_epochs=1000, batch_size=100, decay=0.9):\n",
    "    epoch_run = int(len(X)/batch_size)\n",
    "    \n",
    "    # get starting conditions\n",
    "    # NOTE: I initialised w such that its variance is 1/D\n",
    "    w = np.random.randn(D,1)*(1/np.sqrt(D))\n",
    "    params = []\n",
    "    loss = np.zeros((n_epochs,1))\n",
    "    for i in range(n_epochs):\n",
    "        params.append(w)\n",
    "        \n",
    "        for j in range(epoch_run):\n",
    "            idx = np.random.choice(len(X),batch_size,replace=False)\n",
    "            a = sigmoid(X[idx].dot(w)) # Activation function\n",
    "            e = y[idx] - a # Really important that you use y_obs and not y (you do not have access to true y)  \n",
    "            w = w - gamma*dL_dw(X[idx],e,a)\n",
    "#         \n",
    "        loss[i] = -np.mean(y[idx]*np.log(a+1e-10)+(1-y[idx])*np.log(1-a+1e-10))\n",
    "        gamma = gamma*decay #decay the learning parameter\n",
    "        \n",
    "    return params, loss\n",
    "        \n",
    "params, loss = gradient_descent()"
   ]
  },
  {
   "cell_type": "code",
   "execution_count": 11,
   "metadata": {},
   "outputs": [
    {
     "data": {
      "text/plain": [
       "[<matplotlib.lines.Line2D at 0x111350f98>]"
      ]
     },
     "execution_count": 11,
     "metadata": {},
     "output_type": "execute_result"
    },
    {
     "data": {
      "image/png": "[encoded data removed]",
      "text/plain": [
       "<matplotlib.figure.Figure at 0x11116a7b8>"
      ]
     },
     "metadata": {},
     "output_type": "display_data"
    }
   ],
   "source": [
    "plt.plot(loss)"
   ]
  },
  {
   "cell_type": "code",
   "execution_count": 12,
   "metadata": {},
   "outputs": [
    {
     "data": {
      "text/plain": [
       "array([[-0.14663108, -0.42375968],\n",
       "       [-0.12596242, -0.45341411],\n",
       "       [-0.54578196, -1.79564317],\n",
       "       [-0.11315139, -0.33009019],\n",
       "       [ 0.19399247,  0.73282908]])"
      ]
     },
     "execution_count": 12,
     "metadata": {},
     "output_type": "execute_result"
    }
   ],
   "source": [
    "np.hstack([params[-1],w])"
   ]
  },
  {
   "cell_type": "code",
   "execution_count": 13,
   "metadata": {},
   "outputs": [
    {
     "data": {
      "text/plain": [
       "99"
      ]
     },
     "execution_count": 13,
     "metadata": {},
     "output_type": "execute_result"
    }
   ],
   "source": [
    "# Classification error\n",
    "X_test = 5*np.random.randn(100,D)\n",
    "y_test = X_test.dot(w)\n",
    "y_test[y_test<=0] = 0 \n",
    "y_test[y_test>0] = 1\n",
    "\n",
    "y_inferred = sigmoid(X_test.dot(params[-1])) # Get a probability measure given X\n",
    "y_inferred[y_inferred>0.5] = 1\n",
    "y_inferred[y_inferred<=0.5] = 0\n",
    "\n",
    "np.sum(y_test==y_inferred)"
   ]
  },
  {
   "cell_type": "markdown",
   "metadata": {
    "collapsed": true
   },
   "source": [
    "## Tensorflow Introduction"
   ]
  },
  {
   "cell_type": "code",
   "execution_count": 38,
   "metadata": {
    "collapsed": true
   },
   "outputs": [],
   "source": [
    "import tensorflow as tf"
   ]
  },
  {
   "cell_type": "code",
   "execution_count": 39,
   "metadata": {},
   "outputs": [
    {
     "data": {
      "text/plain": [
       "(1000, 5)"
      ]
     },
     "execution_count": 39,
     "metadata": {},
     "output_type": "execute_result"
    }
   ],
   "source": [
    "X.shape"
   ]
  },
  {
   "cell_type": "code",
   "execution_count": 41,
   "metadata": {},
   "outputs": [
    {
     "data": {
      "text/plain": [
       "(500, 5)"
      ]
     },
     "execution_count": 41,
     "metadata": {},
     "output_type": "execute_result"
    }
   ],
   "source": [
    "X_train.shape"
   ]
  },
  {
   "cell_type": "code",
   "execution_count": 42,
   "metadata": {
    "collapsed": true
   },
   "outputs": [],
   "source": [
    "def tf_train(X_train, y_train, batch_size=20):\n",
    "    # Dataset (inputs and labels)\n",
    "    x = tf.placeholder(tf.float32, [None, D])\n",
    "    y_ = tf.placeholder(tf.float32, [None, 1])\n",
    "    \n",
    "    # random variable\n",
    "    W = tf.Variable(tf.random_normal([D, 1],stddev=0.1))\n",
    "    # map X to inferred output function\n",
    "    a = tf.sigmoid(tf.matmul(x, W))\n",
    "\n",
    "    # Define loss and optimizer\n",
    "    cross_entropy = tf.reduce_mean(-(y_*tf.log(a)+(1-y_)*tf.log(1-a)))\n",
    "    train_step = tf.train.GradientDescentOptimizer(1e-2).minimize(cross_entropy)\n",
    "    \n",
    "    sess = tf.InteractiveSession()\n",
    "    tf.initialize_all_variables().run()\n",
    "    # Train\n",
    "    for epoch in range(1000):\n",
    "        idx = np.random.choice(len(X_train),batch_size,replace=False)\n",
    "        _,l = sess.run([train_step, cross_entropy], feed_dict={x: X_train[idx], y_: y_train[idx]})\n",
    "        if epoch%100 == 0:\n",
    "            print('loss: '+str(l))\n",
    "        "
   ]
  },
  {
   "cell_type": "code",
   "execution_count": 43,
   "metadata": {},
   "outputs": [
    {
     "name": "stdout",
     "output_type": "stream",
     "text": [
      "WARNING:tensorflow:From <ipython-input-42-20b4b688827a>:16: initialize_all_variables (from tensorflow.python.ops.variables) is deprecated and will be removed after 2017-03-02.\n",
      "Instructions for updating:\n",
      "Use `tf.global_variables_initializer` instead.\n",
      "loss: 0.903563\n",
      "loss: 0.133423\n",
      "loss: 0.0812295\n",
      "loss: 0.0744086\n",
      "loss: 0.0868373\n",
      "loss: nan\n",
      "loss: nan\n",
      "loss: nan\n",
      "loss: nan\n",
      "loss: nan\n"
     ]
    }
   ],
   "source": [
    "tf_train(X,y)"
   ]
  },
  {
   "cell_type": "code",
   "execution_count": 44,
   "metadata": {
    "collapsed": true
   },
   "outputs": [],
   "source": [
    "def tf_train(X_train, y_train, batch_size=20, n_epoch=1000):\n",
    "    x = tf.placeholder(tf.float32, [None, D])\n",
    "    y_ = tf.placeholder(tf.float32, [None, 1])\n",
    "    \n",
    "    W = tf.Variable(tf.random_normal([D, 1],stddev=1/np.sqrt(D)))\n",
    "\n",
    "    # Define loss and optimizer\n",
    "    z = tf.matmul(x,W)\n",
    "\n",
    "    cross_entropy = tf.reduce_mean(tf.nn.sigmoid_cross_entropy_with_logits(logits=z,labels=y_))\n",
    "    train_step = tf.train.GradientDescentOptimizer(1e-2).minimize(cross_entropy)\n",
    "\n",
    "    sess = tf.InteractiveSession()\n",
    "    tf.initialize_all_variables().run()\n",
    "    # Train\n",
    "    for epoch in range(n_epoch):\n",
    "        idx = np.random.choice(len(X_train),batch_size,replace=False)\n",
    "        _,l = sess.run([train_step, cross_entropy], feed_dict={x: X_train[idx], y_: y_train[idx]})\n",
    "        if epoch%100 == 0:\n",
    "            print('loss: '+str(l))\n",
    "            \n",
    "    return sess.run(W)"
   ]
  },
  {
   "cell_type": "code",
   "execution_count": 45,
   "metadata": {},
   "outputs": [
    {
     "name": "stdout",
     "output_type": "stream",
     "text": [
      "WARNING:tensorflow:From <ipython-input-44-5d078cf0b8ba>:14: initialize_all_variables (from tensorflow.python.ops.variables) is deprecated and will be removed after 2017-03-02.\n",
      "Instructions for updating:\n",
      "Use `tf.global_variables_initializer` instead.\n",
      "loss: 1.63057\n",
      "loss: 0.139019\n",
      "loss: 0.179242\n",
      "loss: 0.144856\n",
      "loss: 0.0849196\n",
      "loss: 0.102604\n",
      "loss: 0.0781684\n",
      "loss: 0.0877755\n",
      "loss: 0.0193359\n",
      "loss: 0.0764944\n"
     ]
    }
   ],
   "source": [
    "w_est = tf_train(X,y)"
   ]
  },
  {
   "cell_type": "code",
   "execution_count": 46,
   "metadata": {},
   "outputs": [
    {
     "data": {
      "text/plain": [
       "array([[-0.29627892, -0.42375968],\n",
       "       [-0.34968904, -0.45341411],\n",
       "       [-1.36344194, -1.79564317],\n",
       "       [-0.23447008, -0.33009019],\n",
       "       [ 0.50962275,  0.73282908]])"
      ]
     },
     "execution_count": 46,
     "metadata": {},
     "output_type": "execute_result"
    }
   ],
   "source": [
    "np.hstack([w_est,w])"
   ]
  },
  {
   "cell_type": "code",
   "execution_count": 47,
   "metadata": {},
   "outputs": [
    {
     "data": {
      "text/plain": [
       "99"
      ]
     },
     "execution_count": 47,
     "metadata": {},
     "output_type": "execute_result"
    }
   ],
   "source": [
    "# Classification error\n",
    "X_test = 5*np.random.randn(100,D)\n",
    "y_test = X_test.dot(w)\n",
    "y_test[y_test<=0] = 0 \n",
    "y_test[y_test>0] = 1\n",
    "\n",
    "y_inferred = sigmoid(X_test.dot(w_est)) # Get a probability measure given X\n",
    "y_inferred[y_inferred>0.5] = 1\n",
    "y_inferred[y_inferred<=0.5] = 0\n",
    "\n",
    "np.sum(y_test==y_inferred)"
   ]
  },
  {
   "cell_type": "code",
   "execution_count": null,
   "metadata": {
    "collapsed": true
   },
   "outputs": [],
   "source": []
  }
 ],
 "metadata": {
  "anaconda-cloud": {},
  "kernelspec": {
   "display_name": "Python 3",
   "language": "python",
   "name": "python3"
  },
  "language_info": {
   "codemirror_mode": {
    "name": "ipython",
    "version": 3
   },
   "file_extension": ".py",
   "mimetype": "text/x-python",
   "name": "python",
   "nbconvert_exporter": "python",
   "pygments_lexer": "ipython3",
   "version": "3.6.3"
  },
  "latex_envs": {
   "bibliofile": "biblio.bib",
   "cite_by": "apalike",
   "current_citInitial": 1,
   "eqLabelWithNumbers": true,
   "eqNumInitial": 0
  }
 },
 "nbformat": 4,
 "nbformat_minor": 1
}
