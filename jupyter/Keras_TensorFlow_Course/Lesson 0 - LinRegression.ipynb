{
 "cells": [
  {
   "cell_type": "markdown",
   "metadata": {},
   "source": [
    "# Linear Regression\n",
    "\n",
    "Machine learning is about using data to infer patterns.\n",
    "\n",
    "Linear regression is the basic unit of Deep Learning. In fact personally I prefer to think of it as stacking linear regression modules.\n",
    "\n",
    "Deep Learning has proven itself over and over again to be far superior to traditional machine learning techiques. It's strength comes from the fact that it can be scalable to large amounts of data. \n",
    "\n",
    "Some of the most impressive applications are in voice recognition, self driving cars and in chatbots.\n",
    "\n",
    "If you are finding this tutorial challenging try playing around with https://www.blog.google/topics/machine-learning/now-anyone-can-explore-machine-learning-no-coding-required/ (and make sure you watch the video as well) . For a bit more mathematical take, try reading: https://ml.berkeley.edu/blog/2016/11/06/tutorial-1/. Also watch the "
   ]
  },
  {
   "cell_type": "code",
   "execution_count": 1,
   "metadata": {},
   "outputs": [
    {
     "data": {
      "text/html": [
       "\n",
       "        <iframe\n",
       "            width=\"400\"\n",
       "            height=\"300\"\n",
       "            src=\"https://www.youtube.com/embed/jpmGxOB2YPo\"\n",
       "            frameborder=\"0\"\n",
       "            allowfullscreen\n",
       "        ></iframe>\n",
       "        "
      ],
      "text/plain": [
       "<IPython.lib.display.YouTubeVideo at 0x7f6ceda93ac8>"
      ]
     },
     "execution_count": 1,
     "metadata": {},
     "output_type": "execute_result"
    }
   ],
   "source": [
    "from IPython.display import YouTubeVideo\n",
    "YouTubeVideo(\"jpmGxOB2YPo\")"
   ]
  },
  {
   "cell_type": "code",
   "execution_count": 2,
   "metadata": {},
   "outputs": [],
   "source": [
    "import numpy as np\n",
    "import matplotlib.pyplot as plt\n",
    "\n",
    "%matplotlib inline"
   ]
  },
  {
   "cell_type": "markdown",
   "metadata": {},
   "source": [
    "Consider the line $y=2x+3$. See below for a light introduction to plotting and numpy arrays. Numpy arrays are really important to understand. If you have experience with Matlab once you take out the `np.` part it should be familiar to the relevant Matlab function."
   ]
  },
  {
   "cell_type": "code",
   "execution_count": 3,
   "metadata": {},
   "outputs": [
    {
     "data": {
      "image/png": "[encoded data removed]",
      "text/plain": [
       "<Figure size 432x288 with 1 Axes>"
      ]
     },
     "metadata": {
      "needs_background": "light"
     },
     "output_type": "display_data"
    }
   ],
   "source": [
    "x = np.linspace(-5,5,num=100)\n",
    "y = 2*x+3\n",
    "\n",
    "plt.plot(x,y)\n",
    "plt.show()"
   ]
  },
  {
   "cell_type": "markdown",
   "metadata": {},
   "source": [
    "This is how you define a function in Python. Remember to return the value."
   ]
  },
  {
   "cell_type": "code",
   "execution_count": 4,
   "metadata": {},
   "outputs": [],
   "source": [
    "def f(w,b):\n",
    "    \"\"\"\n",
    "    We will limit ourselves to a linear function\n",
    "    \"\"\"\n",
    "    return w*x+b\n",
    "\n",
    "def loss_function(w,b):\n",
    "    \"\"\"\n",
    "    Loss function (squared error)\n",
    "    Note that w and b are the ONLY variables\n",
    "    \"\"\"\n",
    "    e = y - f(w,b)\n",
    "    return np.mean(np.square(e))"
   ]
  },
  {
   "cell_type": "markdown",
   "metadata": {},
   "source": [
    "## Find the function\n",
    "\n",
    "Given the observation $x,y$ the goal is to find the best parameters, $w,b$ that fits the data. Ignore the fact that you can solve this as an equation. Most of the time the data isn't as linear or noiseless as what is being presented here.\n",
    "\n",
    "The most naiive way of finding $w$ and $b$ is to do a grid search over $w$ and $b$ for the smallest loss function value. In this case the loss function is: $$\\frac{1}{N}\\sum_{i=1}^N \\xi_i^2$$ where, $\\xi_i = y_i - f(x_i|w,b)$ and $f(x_i|w,b)=wx_i+b$.\n",
    "\n",
    "Another way of stating the above is that we need to find the best fitting function $f(x_i|w,b)$ such that we minimising the __loss function__ by varying $w$ and $b$. An illustration is shown below:"
   ]
  },
  {
   "cell_type": "code",
   "execution_count": 5,
   "metadata": {},
   "outputs": [
    {
     "data": {
      "text/plain": [
       "array([-7.        , -6.7979798 , -6.5959596 , -6.39393939, -6.19191919,\n",
       "       -5.98989899, -5.78787879, -5.58585859, -5.38383838, -5.18181818,\n",
       "       -4.97979798, -4.77777778, -4.57575758, -4.37373737, -4.17171717,\n",
       "       -3.96969697, -3.76767677, -3.56565657, -3.36363636, -3.16161616,\n",
       "       -2.95959596, -2.75757576, -2.55555556, -2.35353535, -2.15151515,\n",
       "       -1.94949495, -1.74747475, -1.54545455, -1.34343434, -1.14141414,\n",
       "       -0.93939394, -0.73737374, -0.53535354, -0.33333333, -0.13131313,\n",
       "        0.07070707,  0.27272727,  0.47474747,  0.67676768,  0.87878788,\n",
       "        1.08080808,  1.28282828,  1.48484848,  1.68686869,  1.88888889,\n",
       "        2.09090909,  2.29292929,  2.49494949,  2.6969697 ,  2.8989899 ,\n",
       "        3.1010101 ,  3.3030303 ,  3.50505051,  3.70707071,  3.90909091,\n",
       "        4.11111111,  4.31313131,  4.51515152,  4.71717172,  4.91919192,\n",
       "        5.12121212,  5.32323232,  5.52525253,  5.72727273,  5.92929293,\n",
       "        6.13131313,  6.33333333,  6.53535354,  6.73737374,  6.93939394,\n",
       "        7.14141414,  7.34343434,  7.54545455,  7.74747475,  7.94949495,\n",
       "        8.15151515,  8.35353535,  8.55555556,  8.75757576,  8.95959596,\n",
       "        9.16161616,  9.36363636,  9.56565657,  9.76767677,  9.96969697,\n",
       "       10.17171717, 10.37373737, 10.57575758, 10.77777778, 10.97979798,\n",
       "       11.18181818, 11.38383838, 11.58585859, 11.78787879, 11.98989899,\n",
       "       12.19191919, 12.39393939, 12.5959596 , 12.7979798 , 13.        ])"
      ]
     },
     "execution_count": 5,
     "metadata": {},
     "output_type": "execute_result"
    }
   ],
   "source": [
    "y"
   ]
  },
  {
   "cell_type": "code",
   "execution_count": 6,
   "metadata": {},
   "outputs": [
    {
     "data": {
      "text/plain": [
       "array([-5.        , -4.8989899 , -4.7979798 , -4.6969697 , -4.5959596 ,\n",
       "       -4.49494949, -4.39393939, -4.29292929, -4.19191919, -4.09090909,\n",
       "       -3.98989899, -3.88888889, -3.78787879, -3.68686869, -3.58585859,\n",
       "       -3.48484848, -3.38383838, -3.28282828, -3.18181818, -3.08080808,\n",
       "       -2.97979798, -2.87878788, -2.77777778, -2.67676768, -2.57575758,\n",
       "       -2.47474747, -2.37373737, -2.27272727, -2.17171717, -2.07070707,\n",
       "       -1.96969697, -1.86868687, -1.76767677, -1.66666667, -1.56565657,\n",
       "       -1.46464646, -1.36363636, -1.26262626, -1.16161616, -1.06060606,\n",
       "       -0.95959596, -0.85858586, -0.75757576, -0.65656566, -0.55555556,\n",
       "       -0.45454545, -0.35353535, -0.25252525, -0.15151515, -0.05050505,\n",
       "        0.05050505,  0.15151515,  0.25252525,  0.35353535,  0.45454545,\n",
       "        0.55555556,  0.65656566,  0.75757576,  0.85858586,  0.95959596,\n",
       "        1.06060606,  1.16161616,  1.26262626,  1.36363636,  1.46464646,\n",
       "        1.56565657,  1.66666667,  1.76767677,  1.86868687,  1.96969697,\n",
       "        2.07070707,  2.17171717,  2.27272727,  2.37373737,  2.47474747,\n",
       "        2.57575758,  2.67676768,  2.77777778,  2.87878788,  2.97979798,\n",
       "        3.08080808,  3.18181818,  3.28282828,  3.38383838,  3.48484848,\n",
       "        3.58585859,  3.68686869,  3.78787879,  3.88888889,  3.98989899,\n",
       "        4.09090909,  4.19191919,  4.29292929,  4.39393939,  4.49494949,\n",
       "        4.5959596 ,  4.6969697 ,  4.7979798 ,  4.8989899 ,  5.        ])"
      ]
     },
     "execution_count": 6,
     "metadata": {},
     "output_type": "execute_result"
    }
   ],
   "source": [
    "x"
   ]
  },
  {
   "cell_type": "code",
   "execution_count": 7,
   "metadata": {},
   "outputs": [
    {
     "data": {
      "text/plain": [
       "1.0"
      ]
     },
     "execution_count": 7,
     "metadata": {},
     "output_type": "execute_result"
    }
   ],
   "source": [
    "loss_function(2,2)"
   ]
  },
  {
   "cell_type": "code",
   "execution_count": 8,
   "metadata": {},
   "outputs": [
    {
     "data": {
      "text/plain": [
       "0.0"
      ]
     },
     "execution_count": 8,
     "metadata": {},
     "output_type": "execute_result"
    }
   ],
   "source": [
    "loss_function(2,3)"
   ]
  },
  {
   "cell_type": "code",
   "execution_count": 9,
   "metadata": {},
   "outputs": [],
   "source": [
    "w_try, b_try = np.meshgrid(np.linspace(-5,5), np.linspace(-5,5))"
   ]
  },
  {
   "cell_type": "code",
   "execution_count": 10,
   "metadata": {},
   "outputs": [
    {
     "data": {
      "text/plain": [
       "array([[-5.        , -4.79591837, -4.59183673, ...,  4.59183673,\n",
       "         4.79591837,  5.        ],\n",
       "       [-5.        , -4.79591837, -4.59183673, ...,  4.59183673,\n",
       "         4.79591837,  5.        ],\n",
       "       [-5.        , -4.79591837, -4.59183673, ...,  4.59183673,\n",
       "         4.79591837,  5.        ],\n",
       "       ...,\n",
       "       [-5.        , -4.79591837, -4.59183673, ...,  4.59183673,\n",
       "         4.79591837,  5.        ],\n",
       "       [-5.        , -4.79591837, -4.59183673, ...,  4.59183673,\n",
       "         4.79591837,  5.        ],\n",
       "       [-5.        , -4.79591837, -4.59183673, ...,  4.59183673,\n",
       "         4.79591837,  5.        ]])"
      ]
     },
     "execution_count": 10,
     "metadata": {},
     "output_type": "execute_result"
    }
   ],
   "source": [
    "w_try"
   ]
  },
  {
   "cell_type": "code",
   "execution_count": 11,
   "metadata": {},
   "outputs": [
    {
     "data": {
      "text/plain": [
       "array([[-5.        , -5.        , -5.        , ..., -5.        ,\n",
       "        -5.        , -5.        ],\n",
       "       [-4.79591837, -4.79591837, -4.79591837, ..., -4.79591837,\n",
       "        -4.79591837, -4.79591837],\n",
       "       [-4.59183673, -4.59183673, -4.59183673, ..., -4.59183673,\n",
       "        -4.59183673, -4.59183673],\n",
       "       ...,\n",
       "       [ 4.59183673,  4.59183673,  4.59183673, ...,  4.59183673,\n",
       "         4.59183673,  4.59183673],\n",
       "       [ 4.79591837,  4.79591837,  4.79591837, ...,  4.79591837,\n",
       "         4.79591837,  4.79591837],\n",
       "       [ 5.        ,  5.        ,  5.        , ...,  5.        ,\n",
       "         5.        ,  5.        ]])"
      ]
     },
     "execution_count": 11,
     "metadata": {},
     "output_type": "execute_result"
    }
   ],
   "source": [
    "b_try"
   ]
  },
  {
   "cell_type": "code",
   "execution_count": 12,
   "metadata": {},
   "outputs": [
    {
     "data": {
      "image/png": "[encoded data removed]",
      "text/plain": [
       "<Figure size 432x288 with 1 Axes>"
      ]
     },
     "metadata": {
      "needs_background": "light"
     },
     "output_type": "display_data"
    }
   ],
   "source": [
    "w_try = np.linspace(-4,4,num=100)\n",
    "b_try = np.linspace(-4,4,num=100)\n",
    "\n",
    "w_try, b_try = np.meshgrid(w_try,b_try)\n",
    "e_obs = np.zeros((100,100))\n",
    "\n",
    "for i in range(100):\n",
    "    for j in range(100):\n",
    "        e_obs[i,j] = loss_function(w_try[i,j],b_try[i,j])\n",
    "        \n",
    "plt.pcolormesh(w_try, b_try, np.log(e_obs)) #using log here helps visualise better, you may take it out\n",
    "plt.xlabel('w')\n",
    "plt.ylabel('b')\n",
    "plt.title('Mean Squared Error')\n",
    "plt.show()        "
   ]
  },
  {
   "cell_type": "markdown",
   "metadata": {},
   "source": [
    "You can see that the error in the plot is minimised at $w=2$ and $b=3$."
   ]
  },
  {
   "cell_type": "code",
   "execution_count": 13,
   "metadata": {},
   "outputs": [
    {
     "data": {
      "text/plain": [
       "355.060606060606"
      ]
     },
     "execution_count": 13,
     "metadata": {},
     "output_type": "execute_result"
    }
   ],
   "source": [
    "e_obs.max()"
   ]
  },
  {
   "cell_type": "code",
   "execution_count": 14,
   "metadata": {},
   "outputs": [
    {
     "data": {
      "text/plain": [
       "0.0043879944910451526"
      ]
     },
     "execution_count": 14,
     "metadata": {},
     "output_type": "execute_result"
    }
   ],
   "source": [
    "e_obs.min()"
   ]
  },
  {
   "cell_type": "markdown",
   "metadata": {},
   "source": [
    "Algorithms try to be a bit smarter by following the gradients to find the minimum. Remember we can only influence the error via the weights (and bias) `w,b`.\n",
    "\n",
    "## Maths (optional - no really)\n",
    "\\begin{align}\n",
    "\\mathcal{L} & = \\sum_{i=1}^N (y_i-f(x_i,w,b))^2 \\\\\n",
    "\\frac{\\delta\\mathcal{L}}{\\delta w} & = \\sum_{i=1}^N 2(y_i-f(x_i,w,b))\\frac{\\delta f(x_i,w,b)}{\\delta w} \\\\ \n",
    "& = \\sum_{i=1}^N 2\\xi_i\\frac{\\delta f(x_i,w,b)}{\\delta w}\n",
    "\\end{align}\n",
    "where $\\xi_i$ is the error term $y_i-f(x_i,w,b)$ and \n",
    "$$\n",
    "\\frac{\\delta f(x_i,w,b)}{\\delta w} = x_i\n",
    "$$\n",
    "\n",
    "Similar expression can be found for $\\frac{\\delta\\mathcal{L}}{\\delta b}$ (exercise).\n",
    "\n",
    "Finally the weights can be updated as $w_{new} = w_{current} - \\gamma \\frac{\\delta\\mathcal{L}}{\\delta w}$ where $\\gamma$ is a learning rate between 0 and 1."
   ]
  },
  {
   "cell_type": "code",
   "execution_count": 15,
   "metadata": {},
   "outputs": [
    {
     "data": {
      "text/html": [
       "\n",
       "        <iframe\n",
       "            width=\"400\"\n",
       "            height=\"300\"\n",
       "            src=\"https://www.youtube.com/embed/EvnpoUTXA0E\"\n",
       "            frameborder=\"0\"\n",
       "            allowfullscreen\n",
       "        ></iframe>\n",
       "        "
      ],
      "text/plain": [
       "<IPython.lib.display.YouTubeVideo at 0x7f6cf17fc208>"
      ]
     },
     "execution_count": 15,
     "metadata": {},
     "output_type": "execute_result"
    }
   ],
   "source": [
    "from IPython.display import YouTubeVideo\n",
    "YouTubeVideo(\"EvnpoUTXA0E\")"
   ]
  },
  {
   "cell_type": "code",
   "execution_count": 16,
   "metadata": {},
   "outputs": [],
   "source": [
    "from sklearn.linear_model import LinearRegression"
   ]
  },
  {
   "cell_type": "markdown",
   "metadata": {},
   "source": [
    "Scikit learn is another Machine Learning that is quite powerful on itself. However it may not scale to millions of data points same way that DL does.\n",
    "\n",
    "## Noisy Data\n",
    "We see how to find the weights using scikit learn below. However, the data isn't as perfect as before. We add a tiny bit of noise."
   ]
  },
  {
   "cell_type": "code",
   "execution_count": 17,
   "metadata": {},
   "outputs": [
    {
     "data": {
      "image/png": "[encoded data removed]",
      "text/plain": [
       "<Figure size 432x288 with 1 Axes>"
      ]
     },
     "metadata": {
      "needs_background": "light"
     },
     "output_type": "display_data"
    }
   ],
   "source": [
    "x = np.random.randn(10,1)\n",
    "y = 2*x+3 + 0.1*np.random.randn(10,1)\n",
    "\n",
    "plt.scatter(x,y)\n",
    "plt.show()"
   ]
  },
  {
   "cell_type": "code",
   "execution_count": 18,
   "metadata": {},
   "outputs": [
    {
     "data": {
      "text/plain": [
       "array([[-0.71357596],\n",
       "       [ 0.9140161 ],\n",
       "       [-1.32380078],\n",
       "       [ 0.28687436],\n",
       "       [-1.34186068],\n",
       "       [-0.49450964],\n",
       "       [ 0.04626576],\n",
       "       [ 0.5210283 ],\n",
       "       [-0.81445593],\n",
       "       [-0.2100118 ]])"
      ]
     },
     "execution_count": 18,
     "metadata": {},
     "output_type": "execute_result"
    }
   ],
   "source": [
    "x"
   ]
  },
  {
   "cell_type": "code",
   "execution_count": 19,
   "metadata": {},
   "outputs": [
    {
     "data": {
      "text/plain": [
       "LinearRegression(copy_X=True, fit_intercept=True, n_jobs=None, normalize=False)"
      ]
     },
     "execution_count": 19,
     "metadata": {},
     "output_type": "execute_result"
    }
   ],
   "source": [
    "model = LinearRegression() # \n",
    "model.fit(x,y)"
   ]
  },
  {
   "cell_type": "code",
   "execution_count": 20,
   "metadata": {},
   "outputs": [
    {
     "data": {
      "text/plain": [
       "array([[2.01513777]])"
      ]
     },
     "execution_count": 20,
     "metadata": {},
     "output_type": "execute_result"
    }
   ],
   "source": [
    "model.coef_"
   ]
  },
  {
   "cell_type": "code",
   "execution_count": 21,
   "metadata": {},
   "outputs": [
    {
     "data": {
      "text/plain": [
       "array([2.97219557])"
      ]
     },
     "execution_count": 21,
     "metadata": {},
     "output_type": "execute_result"
    }
   ],
   "source": [
    "model.intercept_"
   ]
  },
  {
   "cell_type": "code",
   "execution_count": 30,
   "metadata": {},
   "outputs": [
    {
     "data": {
      "text/plain": [
       "array([[43.27495091]])"
      ]
     },
     "execution_count": 30,
     "metadata": {},
     "output_type": "execute_result"
    }
   ],
   "source": [
    "temp = np.array(20)\n",
    "temp = temp.reshape(1,-1) \n",
    "\n",
    "model.predict(temp)"
   ]
  },
  {
   "cell_type": "markdown",
   "metadata": {},
   "source": [
    "## Note:\n",
    "1. `model.fit(...)` and `model.predict` will be two of the most important functions you will use all throughout. Worth remembering!"
   ]
  },
  {
   "cell_type": "code",
   "execution_count": 31,
   "metadata": {},
   "outputs": [
    {
     "data": {
      "text/plain": [
       "43"
      ]
     },
     "execution_count": 31,
     "metadata": {},
     "output_type": "execute_result"
    }
   ],
   "source": [
    "2*20+3"
   ]
  },
  {
   "cell_type": "code",
   "execution_count": 32,
   "metadata": {},
   "outputs": [
    {
     "data": {
      "image/png": "[encoded data removed]",
      "text/plain": [
       "<Figure size 432x288 with 1 Axes>"
      ]
     },
     "metadata": {
      "needs_background": "light"
     },
     "output_type": "display_data"
    }
   ],
   "source": [
    "x_test = np.linspace(-3,3)\n",
    "y_pred = model.predict(x_test[:,None])\n",
    "\n",
    "plt.scatter(x,y)\n",
    "plt.plot(x_test,y_pred,'r')\n",
    "plt.legend(['Predicted line','Observed data'])\n",
    "plt.show()"
   ]
  },
  {
   "cell_type": "markdown",
   "metadata": {},
   "source": [
    "## A more complicated function\n",
    "Remember that when we say linear regression it mean linear in the parmaters $w, b$ not $x$! See illustration below:\n",
    "\n",
    "\\begin{align}\n",
    "y = b +w^T X \\\\\n",
    "X = [x\\quad x^2\\quad x^3] \\\\\n",
    "y = b +wx +w_2 x^2 +w_3 x^3 \\\\\n",
    "\\end{align}\n",
    "The shapes of the matrices are:\n",
    "- X = NxD matrix\n",
    "- y = Nx1 vector\n",
    "- w = Dx1 vector\n",
    "\n",
    "Note in the example below that there is no $x^2$ term. i.e. it's coefficient is zero!"
   ]
  },
  {
   "cell_type": "code",
   "execution_count": 33,
   "metadata": {},
   "outputs": [
    {
     "data": {
      "image/png": "[encoded data removed]",
      "text/plain": [
       "<Figure size 432x288 with 1 Axes>"
      ]
     },
     "metadata": {
      "needs_background": "light"
     },
     "output_type": "display_data"
    }
   ],
   "source": [
    "x = np.linspace(-5,5,num=100)[:,None]\n",
    "y = -0.5 + 2.2*x +0.3*x**3+ 2*np.random.randn(100,1)\n",
    "\n",
    "plt.plot(x,y)\n",
    "plt.show()"
   ]
  },
  {
   "cell_type": "code",
   "execution_count": 34,
   "metadata": {},
   "outputs": [
    {
     "data": {
      "text/plain": [
       "(100, 1)"
      ]
     },
     "execution_count": 34,
     "metadata": {},
     "output_type": "execute_result"
    }
   ],
   "source": [
    "x.shape"
   ]
  },
  {
   "cell_type": "code",
   "execution_count": 35,
   "metadata": {},
   "outputs": [
    {
     "data": {
      "text/plain": [
       "(100, 4)"
      ]
     },
     "execution_count": 35,
     "metadata": {},
     "output_type": "execute_result"
    }
   ],
   "source": [
    "x_new = np.hstack([x,x**2,x**3,x**4])\n",
    "x_new.shape"
   ]
  },
  {
   "cell_type": "code",
   "execution_count": 36,
   "metadata": {},
   "outputs": [
    {
     "data": {
      "text/plain": [
       "(100, 1)"
      ]
     },
     "execution_count": 36,
     "metadata": {},
     "output_type": "execute_result"
    }
   ],
   "source": [
    "x.shape"
   ]
  },
  {
   "cell_type": "code",
   "execution_count": 37,
   "metadata": {},
   "outputs": [
    {
     "data": {
      "text/plain": [
       "LinearRegression(copy_X=True, fit_intercept=True, n_jobs=None, normalize=False)"
      ]
     },
     "execution_count": 37,
     "metadata": {},
     "output_type": "execute_result"
    }
   ],
   "source": [
    "model = LinearRegression()\n",
    "model.fit(x_new,y)"
   ]
  },
  {
   "cell_type": "code",
   "execution_count": 38,
   "metadata": {},
   "outputs": [
    {
     "data": {
      "text/plain": [
       "array([[ 2.1626707 , -0.1010794 ,  0.3011717 ,  0.00270179]])"
      ]
     },
     "execution_count": 38,
     "metadata": {},
     "output_type": "execute_result"
    }
   ],
   "source": [
    "model.coef_"
   ]
  },
  {
   "cell_type": "markdown",
   "metadata": {},
   "source": [
    "## Note:\n",
    "- The coefficient of $x^2$ and $x^4$ is really close to zero."
   ]
  },
  {
   "cell_type": "code",
   "execution_count": 39,
   "metadata": {},
   "outputs": [
    {
     "data": {
      "text/plain": [
       "array([0.03650868])"
      ]
     },
     "execution_count": 39,
     "metadata": {},
     "output_type": "execute_result"
    }
   ],
   "source": [
    "model.intercept_"
   ]
  },
  {
   "cell_type": "code",
   "execution_count": 40,
   "metadata": {},
   "outputs": [
    {
     "data": {
      "image/png": "[encoded data removed]",
      "text/plain": [
       "<Figure size 432x288 with 1 Axes>"
      ]
     },
     "metadata": {
      "needs_background": "light"
     },
     "output_type": "display_data"
    }
   ],
   "source": [
    "y_pred = model.predict(x_new)\n",
    "\n",
    "plt.scatter(x,y)\n",
    "plt.plot(x_new[:,0],y_pred,'r')\n",
    "plt.legend(['Predicted line','Observed data'])\n",
    "plt.show()"
   ]
  },
  {
   "cell_type": "code",
   "execution_count": 41,
   "metadata": {},
   "outputs": [
    {
     "data": {
      "text/plain": [
       "array([[  -5.        ,   25.        , -125.        ,  625.        ],\n",
       "       [  -4.8989899 ,   24.00010203, -117.57625742,  576.00489747]])"
      ]
     },
     "execution_count": 41,
     "metadata": {},
     "output_type": "execute_result"
    }
   ],
   "source": [
    "from sklearn.preprocessing import PolynomialFeatures\n",
    "poly = PolynomialFeatures(degree=4,include_bias=False)\n",
    "x_new2 = poly.fit_transform(x)\n",
    "x_new2[:2]"
   ]
  },
  {
   "cell_type": "code",
   "execution_count": 42,
   "metadata": {},
   "outputs": [
    {
     "data": {
      "text/plain": [
       "(100, 4)"
      ]
     },
     "execution_count": 42,
     "metadata": {},
     "output_type": "execute_result"
    }
   ],
   "source": [
    "x_new.shape"
   ]
  },
  {
   "cell_type": "code",
   "execution_count": 43,
   "metadata": {},
   "outputs": [
    {
     "data": {
      "text/plain": [
       "array([[  -5.        ,   25.        , -125.        ,  625.        ],\n",
       "       [  -4.8989899 ,   24.00010203, -117.57625742,  576.00489747]])"
      ]
     },
     "execution_count": 43,
     "metadata": {},
     "output_type": "execute_result"
    }
   ],
   "source": [
    "x_new[:2]"
   ]
  },
  {
   "cell_type": "code",
   "execution_count": null,
   "metadata": {
    "collapsed": true
   },
   "outputs": [],
   "source": []
  }
 ],
 "metadata": {
  "anaconda-cloud": {},
  "kernelspec": {
   "display_name": "Python 3",
   "language": "python",
   "name": "python3"
  },
  "language_info": {
   "codemirror_mode": {
    "name": "ipython",
    "version": 3
   },
   "file_extension": ".py",
   "mimetype": "text/x-python",
   "name": "python",
   "nbconvert_exporter": "python",
   "pygments_lexer": "ipython3",
   "version": "3.6.9"
  },
  "latex_envs": {
   "bibliofile": "biblio.bib",
   "cite_by": "apalike",
   "current_citInitial": 1,
   "eqLabelWithNumbers": true,
   "eqNumInitial": 0
  }
 },
 "nbformat": 4,
 "nbformat_minor": 1
}
